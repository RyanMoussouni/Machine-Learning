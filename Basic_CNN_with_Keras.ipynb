{
  "nbformat": 4,
  "nbformat_minor": 0,
  "metadata": {
    "kernelspec": {
      "name": "python3",
      "display_name": "Python 3"
    },
    "language_info": {
      "codemirror_mode": {
        "name": "ipython",
        "version": 3
      },
      "file_extension": ".py",
      "mimetype": "text/x-python",
      "name": "python",
      "nbconvert_exporter": "python",
      "pygments_lexer": "ipython3",
      "version": "3.7.4"
    },
    "colab": {
      "name": "Basic CNN with Keras.ipynb",
      "provenance": []
    },
    "accelerator": "GPU"
  },
  "cells": [
    {
      "cell_type": "markdown",
      "metadata": {
        "id": "0mFSgQsG7nGZ",
        "colab_type": "text"
      },
      "source": [
        "# TP Coding Convolutional Neural Networks in keras :\n",
        "\n",
        "# Creating the CNN model in Keras using the Sequential API\n",
        "\n",
        "You have probably noticed that the Tensorflow interface, while simpler than coding a complex neural network by hand, is nevertheless somewhat laborious to use; all the variables have to be specifically created, we have to create a session etc. Luckily, a package was created which acts as a layer above Tensorflow (and other packages) to simplify the coding process. This package is called Keras.\n",
        "\n",
        "We are now going to create the same network as in part 1 of the TP with Keras. Hopefully you will see that the interfance is quite simplified in comparison to that of Tensorflow.\n",
        "\n",
        "Here is a summary of the network again\n",
        "\n",
        "- The input of the CNN is a set of (m,n,3) image tensors (m and n depend on the dataset).\n",
        "- We apply \n",
        "    - a Convolutional layer of 32 filters of shape (3,3), with stride (1,1) and padding='same' (i.e. we do not apply zero-padding)\n",
        "    - additive biases\n",
        "    - a ReLu activation function\n",
        "    \n",
        "    - a Convolutional layer of 32 filters of shape (3,3), with stride (1,1) and padding='same' (i.e. we do not apply zero-padding)\n",
        "    - additive biases\n",
        "    - a ReLu activation function\n",
        "    - a Max Pooling Layer of shape (2,2) and stride (2,2) (i.e. we reduce by two the size in each dimension)\n",
        "    \n",
        "    - a Convolutional layer of 32 filters of shape (3,3), with stride (1,1) and padding='same' (i.e. we do not apply zero-padding)\n",
        "    - additive biases\n",
        "    - a ReLu activation function\n",
        "    - a Max Pooling Layer of shape (2,2) and stride (2,2) (i.e. we reduce by two the size in each dimension)\n",
        "    \n",
        "    - We then Flatten the data (reduce them to a vector in order to be able to apply a Fully-Connected layer to it)\n",
        "    - A softmax activation function which outputs are the $P(y_c | X)$ (multi-class problem)\n",
        "\n",
        "### Your task:\n",
        "You need to add the missing parts in the code (parts between # --- START CODE HERE and # --- END CODE HERE)\n",
        "\n"
      ]
    },
    {
      "cell_type": "markdown",
      "metadata": {
        "id": "Vdm6ezyu7nGd",
        "colab_type": "text"
      },
      "source": [
        "Keras has a simple way of adding layers to create a neural network. First, you can indicate to Keras that the model is 'sequential', that is to say, a straight-forward CNN. For this, you can use the following function :\n",
        "- ```model = Sequential()```\n",
        "\n",
        "After this, you can add layers with the function.\n",
        "\n",
        "- ```model.add()```\n",
        "\n",
        "You can then use the ```Conv2D```, ```Activation```, ```MaxPooling2D```, ```Flatten``` and ```Dense``` (fully connected) functions to specify different layer types. You will have to specify the parameters of these functions to create the network architecture. To find these parameters, use the Keras documentation, for example in the case of convolutional layers :\n",
        "\n",
        "https://keras.io/layers/convolutional/\n"
      ]
    },
    {
      "cell_type": "markdown",
      "metadata": {
        "id": "54tBbTfy7nGh",
        "colab_type": "text"
      },
      "source": [
        "## We first import some keras packages"
      ]
    },
    {
      "cell_type": "code",
      "metadata": {
        "id": "MZN3O0dp7nGk",
        "colab_type": "code",
        "outputId": "9b375f4e-164c-491e-8587-97c2c1ead030",
        "colab": {
          "base_uri": "https://localhost:8080/",
          "height": 69
        }
      },
      "source": [
        "%matplotlib inline\n",
        "%tensorflow_version 1.x\n",
        "import matplotlib.pyplot as plt\n",
        "import numpy as np\n",
        "from keras.utils.np_utils import to_categorical\n",
        "\n",
        "import keras\n",
        "from keras.models import Sequential\n",
        "from keras.layers import Dense, Dropout, Activation, Flatten\n",
        "from keras.layers import Conv2D, MaxPooling2D\n",
        "from keras import optimizers\n",
        "print(keras.__version__)"
      ],
      "execution_count": 0,
      "outputs": [
        {
          "output_type": "stream",
          "text": [
            "TensorFlow 1.x selected.\n"
          ],
          "name": "stdout"
        },
        {
          "output_type": "stream",
          "text": [
            "Using TensorFlow backend.\n"
          ],
          "name": "stderr"
        },
        {
          "output_type": "stream",
          "text": [
            "2.3.1\n"
          ],
          "name": "stdout"
        }
      ]
    },
    {
      "cell_type": "markdown",
      "metadata": {
        "id": "54EqWS8z7nG2",
        "colab_type": "text"
      },
      "source": [
        "## Define the model parameters again"
      ]
    },
    {
      "cell_type": "code",
      "metadata": {
        "id": "FewtDtQQ7nG4",
        "colab_type": "code",
        "colab": {}
      },
      "source": [
        "learning_rate = 0.01\n",
        "n_epochs = 10\n",
        "batch_size = 64\n",
        "\n",
        "# number of convolutional filters to use\n",
        "nb_filters = 32\n",
        "# convolution kernel size\n",
        "kernel_size = (3, 3)\n",
        "# size of pooling area for max pooling\n",
        "pool_size = (2, 2)\n",
        "# re-define the input shapes\n",
        "input_shape = (32, 32, 3)\n",
        "nb_classes = 10"
      ],
      "execution_count": 0,
      "outputs": []
    },
    {
      "cell_type": "markdown",
      "metadata": {
        "id": "l74Fh81-7nHC",
        "colab_type": "text"
      },
      "source": [
        "## Import the CIFAR10 dataset"
      ]
    },
    {
      "cell_type": "code",
      "metadata": {
        "id": "k6Mr8bbY7nHE",
        "colab_type": "code",
        "outputId": "3f18e573-7f66-4aff-c8f6-d0f1387bf353",
        "colab": {
          "base_uri": "https://localhost:8080/",
          "height": 139
        }
      },
      "source": [
        "## Import the CIFAR10 data and carry out some pre-processing\n",
        "from keras.datasets import cifar10\n",
        "(X_train, y_train), (X_test, y_test) = cifar10.load_data()\n",
        "\n",
        "# input image dimensions\n",
        "img_rows, img_cols, nb_channels = X_train.shape[1], X_train.shape[2], X_train.shape[3]\n",
        "\n",
        "# In case depth is 1 (black and white pictures) -> reshape to proper format\n",
        "X_train = X_train.reshape(X_train.shape[0], img_rows, img_cols, nb_channels)\n",
        "X_test = X_test.reshape(X_test.shape[0], img_rows, img_cols, nb_channels)\n",
        "\n",
        "X_train = X_train.astype('float32')\n",
        "X_test = X_test.astype('float32')\n",
        "X_train /= 255.0\n",
        "X_test /= 255.0\n",
        "\n",
        "Y_train = to_categorical(y_train)\n",
        "Y_test = to_categorical(y_test)\n",
        "\n",
        "nb_classes = Y_train.shape[1]\n",
        "\n",
        "print('X_train shape:', X_train.shape)\n",
        "#print('y_train shape:', y_train.shape)\n",
        "print('Y_train shape:', Y_train.shape)\n",
        "print('There is {} train data'.format(X_train.shape[0]))\n",
        "print('There is {} test data'.format(X_test.shape[0]))\n",
        "print(img_rows, img_cols, nb_channels)\n",
        "\n",
        "\n",
        "# the CIFAR10 categories\n",
        "cifar_10_list = [ 'airplane', 'automobile','bird','cat','deer','dog','frog','horse','ship','truck']\n",
        "\n",
        "#modify the number of input channels \n",
        "n_h_0 = nb_channels\n",
        "# add more epochs\n",
        "n_epochs = 30\n"
      ],
      "execution_count": 0,
      "outputs": [
        {
          "output_type": "stream",
          "text": [
            "Downloading data from https://www.cs.toronto.edu/~kriz/cifar-10-python.tar.gz\n",
            "170500096/170498071 [==============================] - 13s 0us/step\n",
            "X_train shape: (50000, 32, 32, 3)\n",
            "Y_train shape: (50000, 10)\n",
            "There is 50000 train data\n",
            "There is 10000 test data\n",
            "32 32 3\n"
          ],
          "name": "stdout"
        }
      ]
    },
    {
      "cell_type": "code",
      "metadata": {
        "id": "eGB4Q0sR7nHS",
        "colab_type": "code",
        "outputId": "ea0437ec-ce86-4c12-ce9f-f1d6277ae802",
        "colab": {
          "base_uri": "https://localhost:8080/",
          "height": 69
        }
      },
      "source": [
        "# clip data\n",
        "\n",
        "max_data = 10000\n",
        "X_train = X_train[0:max_data,:,:,:]\n",
        "X_test =  X_test[0:max_data,:,:,:]\n",
        "Y_train = Y_train[0:max_data,:]\n",
        "Y_test =  Y_test[0:max_data,:]\n",
        "print('X_train shape:', X_train.shape)\n",
        "print('X_test shape:', X_test.shape)\n",
        "print('Y_train shape:', Y_train.shape)"
      ],
      "execution_count": 0,
      "outputs": [
        {
          "output_type": "stream",
          "text": [
            "X_train shape: (10000, 32, 32, 3)\n",
            "X_test shape: (10000, 32, 32, 3)\n",
            "Y_train shape: (10000, 10)\n"
          ],
          "name": "stdout"
        }
      ]
    },
    {
      "cell_type": "markdown",
      "metadata": {
        "id": "9v96UgIi7nHb",
        "colab_type": "text"
      },
      "source": [
        "## Create the CNN now with the network parameters specified above, using the Sequential() API of Keras"
      ]
    },
    {
      "cell_type": "code",
      "metadata": {
        "id": "S90HsXjl_g5h",
        "colab_type": "code",
        "colab": {}
      },
      "source": [
        "Dense?"
      ],
      "execution_count": 0,
      "outputs": []
    },
    {
      "cell_type": "code",
      "metadata": {
        "id": "b7fbK5X77nHc",
        "colab_type": "code",
        "colab": {}
      },
      "source": [
        "# --- START CODE HERE\n",
        "model = Sequential()\n",
        "model.add(Conv2D(32, input_shape =  (3,3),strides= (1,1),activation= 'relu',padding ='same',use_bias = True))\n",
        "model.add(Conv2D(32, (3,3),strides= (1,1),activation= 'relu',padding ='same', use_bias = True))\n",
        "model.add(MaxPooling2D(pool_size = (2,2),strides = (2,2)))\n",
        "model.add(Conv2D(32, (3,3),strides= (1,1),activation= 'relu',padding ='same', use_bias = True))\n",
        "model.add(MaxPooling2D(pool_size = (2,2),strides = (2,2)))\n",
        "model.add(Flatten())\n",
        "model.add(Dense(512,activation= 'relu', use_bias = True))\n",
        "model.add(Dense(nb_classes,activation = 'softmax', use_bias = True))\n",
        "\n",
        "\n",
        "# --- END CODE HERE"
      ],
      "execution_count": 0,
      "outputs": []
    },
    {
      "cell_type": "markdown",
      "metadata": {
        "id": "3CT-9LGe7nHp",
        "colab_type": "text"
      },
      "source": [
        "## Compile the model\n",
        "\n",
        "This has created the computational graph correspoding to the network. However, we also need to define the ```loss``` that we will minimize and the ```optimizer``` (the specific algorithm used to perform gradient descent). This can be done with the following simple syntax :"
      ]
    },
    {
      "cell_type": "code",
      "metadata": {
        "id": "40YzsGjU7nHr",
        "colab_type": "code",
        "colab": {}
      },
      "source": [
        "model.compile(loss='categorical_crossentropy',\n",
        "              optimizer=optimizers.Adam(lr=learning_rate),\n",
        "              metrics=['accuracy'])"
      ],
      "execution_count": 0,
      "outputs": []
    },
    {
      "cell_type": "markdown",
      "metadata": {
        "id": "8kCc4WS77nHx",
        "colab_type": "text"
      },
      "source": [
        "## Summary of the network\n",
        "\n",
        "Keras has an extremely useful function ```summary()``` which summarises the network you have created in a viewer-friendly manner :"
      ]
    },
    {
      "cell_type": "code",
      "metadata": {
        "id": "1M6n6J6i7nHy",
        "colab_type": "code",
        "outputId": "72616345-0ba9-4c20-accd-21065536aa20",
        "colab": {
          "base_uri": "https://localhost:8080/",
          "height": 309
        }
      },
      "source": [
        "model.summary()"
      ],
      "execution_count": 0,
      "outputs": [
        {
          "output_type": "error",
          "ename": "ValueError",
          "evalue": "ignored",
          "traceback": [
            "\u001b[0;31m---------------------------------------------------------------------------\u001b[0m",
            "\u001b[0;31mValueError\u001b[0m                                Traceback (most recent call last)",
            "\u001b[0;32m<ipython-input-9-5f15418b3570>\u001b[0m in \u001b[0;36m<module>\u001b[0;34m()\u001b[0m\n\u001b[0;32m----> 1\u001b[0;31m \u001b[0mmodel\u001b[0m\u001b[0;34m.\u001b[0m\u001b[0msummary\u001b[0m\u001b[0;34m(\u001b[0m\u001b[0;34m)\u001b[0m\u001b[0;34m\u001b[0m\u001b[0;34m\u001b[0m\u001b[0m\n\u001b[0m",
            "\u001b[0;32m/usr/local/lib/python3.6/dist-packages/keras/engine/network.py\u001b[0m in \u001b[0;36msummary\u001b[0;34m(self, line_length, positions, print_fn)\u001b[0m\n\u001b[1;32m   1318\u001b[0m         \u001b[0;32mif\u001b[0m \u001b[0;32mnot\u001b[0m \u001b[0mself\u001b[0m\u001b[0;34m.\u001b[0m\u001b[0mbuilt\u001b[0m\u001b[0;34m:\u001b[0m\u001b[0;34m\u001b[0m\u001b[0;34m\u001b[0m\u001b[0m\n\u001b[1;32m   1319\u001b[0m             raise ValueError(\n\u001b[0;32m-> 1320\u001b[0;31m                 \u001b[0;34m'This model has not yet been built. '\u001b[0m\u001b[0;34m\u001b[0m\u001b[0;34m\u001b[0m\u001b[0m\n\u001b[0m\u001b[1;32m   1321\u001b[0m                 \u001b[0;34m'Build the model first by calling build() '\u001b[0m\u001b[0;34m\u001b[0m\u001b[0;34m\u001b[0m\u001b[0m\n\u001b[1;32m   1322\u001b[0m                 \u001b[0;34m'or calling fit() with some data. '\u001b[0m\u001b[0;34m\u001b[0m\u001b[0;34m\u001b[0m\u001b[0m\n",
            "\u001b[0;31mValueError\u001b[0m: This model has not yet been built. Build the model first by calling build() or calling fit() with some data. Or specify input_shape or batch_input_shape in the first layer for automatic build. "
          ]
        }
      ]
    },
    {
      "cell_type": "markdown",
      "metadata": {
        "id": "uye2iJ-h7nH5",
        "colab_type": "text"
      },
      "source": [
        "## Perform the training\n",
        "\n",
        "The training can be carried out with an extremely simple syntax :"
      ]
    },
    {
      "cell_type": "code",
      "metadata": {
        "id": "AE3E3-bV7nH7",
        "colab_type": "code",
        "outputId": "5ea4bbf9-55a7-4fb9-c6df-61079a63977c",
        "colab": {
          "base_uri": "https://localhost:8080/",
          "height": 1000
        }
      },
      "source": [
        "model.fit(X_train, Y_train,\n",
        "          batch_size=batch_size, \n",
        "          epochs=n_epochs,\n",
        "          verbose=1, \n",
        "          validation_data=(X_test, Y_test))"
      ],
      "execution_count": 0,
      "outputs": [
        {
          "output_type": "stream",
          "text": [
            "Train on 10000 samples, validate on 10000 samples\n",
            "Epoch 1/30\n",
            "10000/10000 [==============================] - 2s 204us/step - loss: 2.2451 - accuracy: 0.1980 - val_loss: 1.9865 - val_accuracy: 0.2863\n",
            "Epoch 2/30\n",
            "10000/10000 [==============================] - 2s 167us/step - loss: 1.9347 - accuracy: 0.2926 - val_loss: 1.8686 - val_accuracy: 0.3300\n",
            "Epoch 3/30\n",
            "10000/10000 [==============================] - 2s 171us/step - loss: 1.7530 - accuracy: 0.3596 - val_loss: 1.7543 - val_accuracy: 0.3649\n",
            "Epoch 4/30\n",
            "10000/10000 [==============================] - 2s 174us/step - loss: 1.6189 - accuracy: 0.4077 - val_loss: 1.6299 - val_accuracy: 0.4132\n",
            "Epoch 5/30\n",
            "10000/10000 [==============================] - 2s 176us/step - loss: 1.5482 - accuracy: 0.4383 - val_loss: 1.5885 - val_accuracy: 0.4223\n",
            "Epoch 6/30\n",
            "10000/10000 [==============================] - 2s 164us/step - loss: 1.4892 - accuracy: 0.4647 - val_loss: 1.6088 - val_accuracy: 0.4149\n",
            "Epoch 7/30\n",
            "10000/10000 [==============================] - 2s 168us/step - loss: 1.4549 - accuracy: 0.4776 - val_loss: 1.6393 - val_accuracy: 0.4112\n",
            "Epoch 8/30\n",
            "10000/10000 [==============================] - 2s 169us/step - loss: 1.4310 - accuracy: 0.4834 - val_loss: 1.7198 - val_accuracy: 0.4225\n",
            "Epoch 9/30\n",
            "10000/10000 [==============================] - 2s 180us/step - loss: 1.3866 - accuracy: 0.5012 - val_loss: 1.6503 - val_accuracy: 0.4278\n",
            "Epoch 10/30\n",
            "10000/10000 [==============================] - 2s 173us/step - loss: 1.3090 - accuracy: 0.5262 - val_loss: 1.6203 - val_accuracy: 0.4345\n",
            "Epoch 11/30\n",
            "10000/10000 [==============================] - 2s 174us/step - loss: 1.2804 - accuracy: 0.5434 - val_loss: 1.6771 - val_accuracy: 0.4391\n",
            "Epoch 12/30\n",
            "10000/10000 [==============================] - 2s 171us/step - loss: 1.2175 - accuracy: 0.5625 - val_loss: 1.6827 - val_accuracy: 0.4341\n",
            "Epoch 13/30\n",
            "10000/10000 [==============================] - 2s 173us/step - loss: 1.1879 - accuracy: 0.5793 - val_loss: 1.7706 - val_accuracy: 0.4257\n",
            "Epoch 14/30\n",
            "10000/10000 [==============================] - 2s 170us/step - loss: 1.1117 - accuracy: 0.6047 - val_loss: 1.7543 - val_accuracy: 0.4371\n",
            "Epoch 15/30\n",
            "10000/10000 [==============================] - 2s 169us/step - loss: 1.0760 - accuracy: 0.6189 - val_loss: 1.7890 - val_accuracy: 0.4285\n",
            "Epoch 16/30\n",
            "10000/10000 [==============================] - 2s 167us/step - loss: 1.0286 - accuracy: 0.6305 - val_loss: 2.1068 - val_accuracy: 0.4214\n",
            "Epoch 17/30\n",
            "10000/10000 [==============================] - 2s 171us/step - loss: 0.9895 - accuracy: 0.6430 - val_loss: 1.9283 - val_accuracy: 0.4116\n",
            "Epoch 18/30\n",
            "10000/10000 [==============================] - 2s 171us/step - loss: 0.9517 - accuracy: 0.6611 - val_loss: 1.9892 - val_accuracy: 0.4208\n",
            "Epoch 19/30\n",
            "10000/10000 [==============================] - 2s 172us/step - loss: 0.9180 - accuracy: 0.6690 - val_loss: 2.2595 - val_accuracy: 0.4146\n",
            "Epoch 20/30\n",
            "10000/10000 [==============================] - 2s 165us/step - loss: 0.9103 - accuracy: 0.6762 - val_loss: 2.2518 - val_accuracy: 0.3995\n",
            "Epoch 21/30\n",
            "10000/10000 [==============================] - 2s 167us/step - loss: 0.8344 - accuracy: 0.6996 - val_loss: 2.4175 - val_accuracy: 0.4136\n",
            "Epoch 22/30\n",
            "10000/10000 [==============================] - 2s 171us/step - loss: 0.8169 - accuracy: 0.7085 - val_loss: 2.5793 - val_accuracy: 0.4164\n",
            "Epoch 23/30\n",
            "10000/10000 [==============================] - 2s 167us/step - loss: 0.7790 - accuracy: 0.7230 - val_loss: 2.4903 - val_accuracy: 0.4195\n",
            "Epoch 24/30\n",
            "10000/10000 [==============================] - 2s 167us/step - loss: 0.7776 - accuracy: 0.7235 - val_loss: 2.5134 - val_accuracy: 0.4025\n",
            "Epoch 25/30\n",
            "10000/10000 [==============================] - 2s 171us/step - loss: 0.7630 - accuracy: 0.7258 - val_loss: 2.6009 - val_accuracy: 0.4093\n",
            "Epoch 26/30\n",
            "10000/10000 [==============================] - 2s 170us/step - loss: 0.7400 - accuracy: 0.7348 - val_loss: 2.7978 - val_accuracy: 0.4069\n",
            "Epoch 27/30\n",
            "10000/10000 [==============================] - 2s 170us/step - loss: 0.7054 - accuracy: 0.7465 - val_loss: 2.8201 - val_accuracy: 0.4065\n",
            "Epoch 28/30\n",
            "10000/10000 [==============================] - 2s 165us/step - loss: 0.6386 - accuracy: 0.7729 - val_loss: 3.0026 - val_accuracy: 0.4048\n",
            "Epoch 29/30\n",
            "10000/10000 [==============================] - 2s 168us/step - loss: 0.5984 - accuracy: 0.7837 - val_loss: 3.0320 - val_accuracy: 0.4060\n",
            "Epoch 30/30\n",
            "10000/10000 [==============================] - 2s 174us/step - loss: 0.6049 - accuracy: 0.7819 - val_loss: 3.0872 - val_accuracy: 0.4018\n"
          ],
          "name": "stdout"
        },
        {
          "output_type": "execute_result",
          "data": {
            "text/plain": [
              "<keras.callbacks.callbacks.History at 0x7f76666a7ba8>"
            ]
          },
          "metadata": {
            "tags": []
          },
          "execution_count": 29
        }
      ]
    },
    {
      "cell_type": "markdown",
      "metadata": {
        "id": "UwVozqHhxEAI",
        "colab_type": "text"
      },
      "source": [
        "Sometimes it yields good results and sometimes not. It's somehow unpredictable."
      ]
    },
    {
      "cell_type": "markdown",
      "metadata": {
        "id": "mQkqLHv67nIE",
        "colab_type": "text"
      },
      "source": [
        "## We evaluate the performances of the model on the test data"
      ]
    },
    {
      "cell_type": "code",
      "metadata": {
        "id": "l5hJ_M8S7nIG",
        "colab_type": "code",
        "outputId": "a003262d-e2d3-4723-b7b7-afbdb14af522",
        "colab": {
          "base_uri": "https://localhost:8080/",
          "height": 52
        }
      },
      "source": [
        "score = model.evaluate(X_test, Y_test, verbose=False)\n",
        "print('Test score:', score[0])\n",
        "print('Test accuracy:', score[1])"
      ],
      "execution_count": 0,
      "outputs": [
        {
          "output_type": "stream",
          "text": [
            "Test score: 3.087216375732422\n",
            "Test accuracy: 0.4018000066280365\n"
          ],
          "name": "stdout"
        }
      ]
    },
    {
      "cell_type": "markdown",
      "metadata": {
        "id": "lJ-Bjpu07nIM",
        "colab_type": "text"
      },
      "source": [
        "Let's take a look at what the network has learned. What do you think ?"
      ]
    },
    {
      "cell_type": "code",
      "metadata": {
        "id": "ZUPxEi677nIN",
        "colab_type": "code",
        "outputId": "cb7bfbc6-0f59-49cc-f493-a5576b08d796",
        "colab": {
          "base_uri": "https://localhost:8080/",
          "height": 338
        }
      },
      "source": [
        "plt.figure(figsize=(10, 6))\n",
        "for idx,i in enumerate(range(100,110)):\n",
        "    plt.subplot(2, 5, idx+1)\n",
        "    rand_ind = np.random.randint(0,X_test.shape[0])\n",
        "    predicted_class = np.argmax(np.squeeze(model.predict(np.expand_dims(X_test[rand_ind,:,:,:],axis=0))))\n",
        "    plt.imshow(X_test[rand_ind,:,:,:])\n",
        "    plt.title(cifar_10_list[int(predicted_class)])"
      ],
      "execution_count": 0,
      "outputs": [
        {
          "output_type": "display_data",
          "data": {
            "image/png": "[encoded data removed]",
            "text/plain": [
              "<Figure size 720x432 with 10 Axes>"
            ]
          },
          "metadata": {
            "tags": [],
            "needs_background": "light"
          }
        }
      ]
    },
    {
      "cell_type": "markdown",
      "metadata": {
        "id": "62zwdJYE7nIV",
        "colab_type": "text"
      },
      "source": [
        "## Exploring the model in greater detail :\n",
        "\n",
        "More generally, you can explore the network quite easily with the Keras package by accessing the different variables and functions of the model with the ```dir``` function :"
      ]
    },
    {
      "cell_type": "code",
      "metadata": {
        "id": "1LrCAhmI7nIW",
        "colab_type": "code",
        "colab": {}
      },
      "source": [
        "dir(model)"
      ],
      "execution_count": 0,
      "outputs": []
    },
    {
      "cell_type": "code",
      "metadata": {
        "id": "zCB6ZnQi7nIf",
        "colab_type": "code",
        "colab": {}
      },
      "source": [
        "dir(model.layers[0])"
      ],
      "execution_count": 0,
      "outputs": []
    },
    {
      "cell_type": "markdown",
      "metadata": {
        "id": "HIO5HTco7nIl",
        "colab_type": "text"
      },
      "source": [
        "## Viewing the filters\n",
        "Now, display all (32) trained filters of the first layer"
      ]
    },
    {
      "cell_type": "code",
      "metadata": {
        "id": "PM8xt4EC7nIm",
        "colab_type": "code",
        "outputId": "46f6a505-51d7-4b69-a468-a126fa6a21b8",
        "colab": {
          "base_uri": "https://localhost:8080/",
          "height": 443
        }
      },
      "source": [
        "print(model.layers[0].filters)\n",
        "print(model.layers[0].kernel_size)\n",
        "print(model.layers[0].get_weights()[0].shape)\n",
        "\n",
        "\n",
        "plt.figure(figsize=(10, 6))\n",
        "##Model weights\n",
        "weights = model.layers[0].get_weights()[0]\n",
        "plt.figure(figsize=(10, 6))\n",
        "for num in range(0,32):\n",
        "    plt.subplot(8, 4, num+1)\n",
        "    # --- START CODE HERE\n",
        "    for i in range(3):\n",
        "      for j in range(3):\n",
        "        plt.imshow(weights[:,:,0,num],cmap = 'gray')#showing just for the first channel\n",
        "    # --- END CODE HERE    "
      ],
      "execution_count": 0,
      "outputs": [
        {
          "output_type": "stream",
          "text": [
            "32\n",
            "(3, 3)\n",
            "(3, 3, 3, 32)\n"
          ],
          "name": "stdout"
        },
        {
          "output_type": "display_data",
          "data": {
            "text/plain": [
              "<Figure size 720x432 with 0 Axes>"
            ]
          },
          "metadata": {
            "tags": []
          }
        },
        {
          "output_type": "display_data",
          "data": {
            "image/png": "[encoded data removed]",
            "text/plain": [
              "<Figure size 720x432 with 32 Axes>"
            ]
          },
          "metadata": {
            "tags": [],
            "needs_background": "light"
          }
        }
      ]
    },
    {
      "cell_type": "markdown",
      "metadata": {
        "id": "BK3GCXhW7nIt",
        "colab_type": "text"
      },
      "source": [
        "You can see that this is not very informative; it is difficult to interpret these weights. We therefore need more sophisticated techniques when analysing CNNs. To see some of these techniques, go on to part 3."
      ]
    }
  ]
}