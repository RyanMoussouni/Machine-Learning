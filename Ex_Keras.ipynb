{
 "cells": [
  {
   "cell_type": "markdown",
   "metadata": {
    "colab_type": "text",
    "id": "iafPdtuncbq7"
   },
   "source": [
    "<h2><center>MNIST classification using Numpy</center></h2>\n"
   ]
  },
  {
   "cell_type": "markdown",
   "metadata": {
    "colab_type": "text",
    "id": "I4VrCB5La5rD"
   },
   "source": [
    "# Importing Numpy and Keras"
   ]
  },
  {
   "cell_type": "code",
   "execution_count": 0,
   "metadata": {
    "colab": {
     "base_uri": "https://localhost:8080/",
     "height": 52
    },
    "colab_type": "code",
    "id": "OlKZ3Hnas7B4",
    "outputId": "cdbb882f-ed15-40a6-c04e-eee63110669d",
    "scrolled": true
   },
   "outputs": [
    {
     "name": "stdout",
     "output_type": "stream",
     "text": [
      "Using tensorflow version 1.15.0\n",
      "Using keras version 2.2.5\n"
     ]
    }
   ],
   "source": [
    "import numpy as np\n",
    "# Importing the Keras main module forcing tensorflow 1.x backend\n",
    "#import sys\n",
    "#!conda install --yes --prefix {sys.prefix} tensorflow\n",
    "#!conda install --yes --prefix {sys.prefix} keras\n",
    "import tensorflow as tf\n",
    "import keras\n",
    "print(\"Using tensorflow version \" + str(tf.__version__))\n",
    "print(\"Using keras version \" + str(keras.__version__))"
   ]
  },
  {
   "cell_type": "code",
   "execution_count": 0,
   "metadata": {
    "colab": {},
    "colab_type": "code",
    "id": "2Cd9KGqo20F-"
   },
   "outputs": [],
   "source": [
    "#Additionnal resources\n",
    "import psutil\n",
    "from sklearn.preprocessing import StandardScaler"
   ]
  },
  {
   "cell_type": "markdown",
   "metadata": {
    "colab_type": "text",
    "id": "s_QLz9_jbRZq"
   },
   "source": [
    "# Loading and preparing the MNIST dataset\n",
    "Load the MNIST dataset made available by keras.datasets\n",
    "Verify the amount of system memory available before and after loading the dataset."
   ]
  },
  {
   "cell_type": "code",
   "execution_count": 0,
   "metadata": {
    "colab": {
     "base_uri": "https://localhost:8080/",
     "height": 34
    },
    "colab_type": "code",
    "id": "M_x4fuIh20GG",
    "outputId": "5f9729f3-cda7-475e-ebac-e62574c6b1dd"
   },
   "outputs": [
    {
     "name": "stdout",
     "output_type": "stream",
     "text": [
      "Avant de charger la bibliothèque: 12665741312.000000\n"
     ]
    }
   ],
   "source": [
    "print('Avant de charger la bibliothèque: %f' %(psutil.virtual_memory()[1]))"
   ]
  },
  {
   "cell_type": "code",
   "execution_count": 0,
   "metadata": {
    "cellView": "both",
    "colab": {
     "base_uri": "https://localhost:8080/",
     "height": 52
    },
    "colab_type": "code",
    "id": "gG83hGyVmijn",
    "outputId": "0b3a3f74-a58b-4cdf-863a-e230eade1f9c"
   },
   "outputs": [
    {
     "name": "stdout",
     "output_type": "stream",
     "text": [
      "Après : 12665565184.000000\n",
      "Faible variation mémoire\n"
     ]
    }
   ],
   "source": [
    "#@title\n",
    "# The MNSIT dataset is ready to be imported from Keras into RAM\n",
    "# Warning: you cannot do that for larger databases (e.g., ImageNet)\n",
    "from keras.datasets import mnist\n",
    "# START CODE HERE\n",
    "print('Après : %f' %(psutil.virtual_memory()[1]) )\n",
    "print('Faible variation mémoire')\n",
    "# END CODE HERE\n"
   ]
  },
  {
   "cell_type": "markdown",
   "metadata": {
    "colab_type": "text",
    "id": "gRPbU_Z4U6Ac"
   },
   "source": [
    "The MNIST database contains 60,000 training images and 10,000 testing images.\n",
    "Using the pyplot package, visualize the fist sample of the training set:"
   ]
  },
  {
   "cell_type": "code",
   "execution_count": 0,
   "metadata": {
    "colab": {
     "base_uri": "https://localhost:8080/",
     "height": 317
    },
    "colab_type": "code",
    "id": "x5VAu7oW0Zu4",
    "outputId": "d66e1562-a665-4697-f15c-f291d915e99f"
   },
   "outputs": [
    {
     "name": "stdout",
     "output_type": "stream",
     "text": [
      "Downloading data from https://s3.amazonaws.com/img-datasets/mnist.npz\n",
      "11493376/11490434 [==============================] - 1s 0us/step\n",
      "Je ne reconnais pas moi-même le numéro ... ahah\n"
     ]
    },
    {
     "data": {
      "image/png": "[encoded data removed]",
      "text/plain": [
       "<Figure size 432x288 with 1 Axes>"
      ]
     },
     "metadata": {
      "tags": []
     },
     "output_type": "display_data"
    }
   ],
   "source": [
    "# Let us visualize the first training sample using the Gnuplot library\n",
    "from matplotlib import pyplot as plt\n",
    "# START CODE HERE\n",
    "(X_train,y_train),(X_test,y_test) = mnist.load_data()\n",
    "plt.imshow(X_train[0],cmap = 'gray') #ajouter cmap pour du noir et blanc\n",
    "print(\"Je ne reconnais pas moi-même le numéro ... ahah\")\n",
    "# END CODE HERE"
   ]
  },
  {
   "cell_type": "markdown",
   "metadata": {
    "colab_type": "text",
    "id": "s7YsRekMVDg-"
   },
   "source": [
    "The database contains images of handwritten digits. Hence, they belong to one of 10 categories, depending on the digit they represent. \n",
    "Reminder: in order to do multi-class classification, we use the softmax function, which outputs a multinomial probability distribution. That means that the output to our model will be a vector of size $10$, containing probabilities (meaning that the elements of the vector will be positive sum to $1$).\n",
    "For easy computation, we want to true labels to be represented with the same format: that is what we call **one-hot encoding**. For example, if an image $\\mathbf{x}$ represents the digit $5$, we have the corresponding one_hot label (careful, $0$ will be the first digit): \n",
    "$$ \\mathbf{y} = [0, 0, 0, 0, 0, 1, 0, 0, 0, 0] $$\n",
    "Here, you need to turn train and test labels to one-hot encoding using the following function: "
   ]
  },
  {
   "cell_type": "code",
   "execution_count": 0,
   "metadata": {
    "colab": {
     "base_uri": "https://localhost:8080/",
     "height": 52
    },
    "colab_type": "code",
    "id": "lQbkllF8mnaf",
    "outputId": "4252fd6b-a8b6-49fd-ac47-f7a1ddf67583"
   },
   "outputs": [
    {
     "name": "stdout",
     "output_type": "stream",
     "text": [
      "One Hot Encoded train labels examples:  [0 0 0 0 0 1 0 0 0 0] , [0 0 0 1 0 0 0 0 0 0]\n",
      "One Hot Encoded test  labels examples:  [0 1 0 0 0 0 0 0 0 0] , [0 1 0 0 0 0 0 0 0 0]\n"
     ]
    }
   ],
   "source": [
    "from keras.utils.np_utils import to_categorical\n",
    "# START CODE HERE\n",
    "y_train_OH = to_categorical(y_train, num_classes=10, dtype ='uint8' )\n",
    "y_test_OH  = to_categorical(y_test, num_classes=10, dtype ='uint8' )\n",
    "print('One Hot Encoded train labels examples:  %s , %s' %(str(y_train_OH[0]),str(y_train_OH[10])))\n",
    "print('One Hot Encoded test  labels examples:  %s , %s' %(str(y_test_OH[2]),str(y_train_OH[3])))\n",
    "# END CODE HERE"
   ]
  },
  {
   "cell_type": "markdown",
   "metadata": {
    "colab_type": "text",
    "id": "0jv29YLtVO3q"
   },
   "source": [
    "Images are black and white, with size $28 \\times 28$. We will work with them using a simple linear classification model, meaning that we will have them as vectors of size $(784)$.\n",
    "You should then transform the images to the size $(784)$ using the numpy function ```reshape```,\n",
    "\n",
    "Then, after casting the pixels to floats, normalize the images so that they have zero-mean and unitary deviation. Be careful to your methodology: while you have access to training data, you may not have access to testing data, and must avoid using any statistic on the testing dataset."
   ]
  },
  {
   "cell_type": "code",
   "execution_count": 0,
   "metadata": {
    "colab": {
     "base_uri": "https://localhost:8080/",
     "height": 34
    },
    "colab_type": "code",
    "id": "ptTRSDo5nJyZ",
    "outputId": "78d1c8f7-9c26-4986-92a0-7edd6d7429b9"
   },
   "outputs": [
    {
     "name": "stdout",
     "output_type": "stream",
     "text": [
      "Feature matrix mean : 0.000000 standard deviation : 0.956316\n"
     ]
    }
   ],
   "source": [
    "# Reshape to proper images with 1 color channel according to backend scheme\n",
    "\n",
    "\n",
    "    \n",
    "# START CODE HERE\n",
    "img_rows, img_cols = X_train.shape[1], X_train.shape[2]\n",
    "X_train_col = X_train.reshape(X_train.shape[0],-1)\n",
    "if (X_train_col[0].shape[0] != img_cols*img_rows):\n",
    "    print('X_train_col size : %i != img_cols* img_rows : %i '%(X_train_col[0].shape[0], img_cols*img_rows))\n",
    "    raise Exception(\"Error reshaping\")\n",
    "# END CODE HERE\n",
    "\n",
    "# Cast pixels from uint8 to float32\n",
    "X_train_col = X_train_col.astype('float32')\n",
    "\n",
    "##Same for X_test\n",
    "X_test_col = X_test.reshape(X_test.shape[0],-1)\n",
    "\n",
    "# Cast pixels from uint8 to float32\n",
    "X_test_col = X_test_col.astype('float32')\n",
    "\n",
    "# Now let us normalize the images so that they have zero mean and standard deviation\n",
    "# Hint: are real testing data statistics known at training time ?\n",
    "# START CODE HERE\n",
    "scaler = StandardScaler()\n",
    "StandardScaler.fit(scaler,X_train_col)\n",
    "X_train_col = StandardScaler.transform(scaler,X_train_col)\n",
    "print('Feature matrix mean : %f standard deviation : %f'%(np.mean(X_train_col),np.std(X_train_col)))\n",
    "# END CODE HERE"
   ]
  },
  {
   "cell_type": "markdown",
   "metadata": {
    "colab_type": "text",
    "id": "kmQsGqn7TIgt"
   },
   "source": [
    "# Working with Numpy\n",
    "\n",
    "Look at this [cheatsheet](https://s3.amazonaws.com/assets.datacamp.com/blog_assets/Numpy_Python_Cheat_Sheet.pdf) for some basic information on how to use numpy.\n",
    "\n",
    "## Defining the model \n",
    "\n",
    "We will here create a simple, linear classification model. We will take each pixel in the image as an input feature (making the size of the input to be $784$) and transform these features with a weight matrix $\\mathbf{W}$ and a bias vector $\\mathbf{b}$. Since there is $10$ possible classes, we want to obtain $10$ scores. Then, \n",
    "$$ \\mathbf{W} \\in \\mathbb{R}^{784 \\times 10} $$\n",
    "$$ \\mathbf{b} \\in \\mathbb{R}^{10} $$\n",
    "\n",
    "and our scores are obtained with:\n",
    "$$ \\mathbf{z} = \\mathbf{W}^{T} \\mathbf{x} +  \\mathbf{b} $$\n",
    "\n",
    "where $\\mathbf{x} \\in \\mathbb{R}^{784}$ is the input vector representing an image.\n",
    "We note $\\mathbf{y} \\in \\mathbb{R}^{10}$ as the target one_hot vector. \n",
    "\n",
    "Here, you fist need to initialize $\\mathbf{W}$ and $\\mathbf{b}$ using ```np.random.normal``` and ```np.zeros```, then compute $\\mathbf{z}$."
   ]
  },
  {
   "cell_type": "code",
   "execution_count": 0,
   "metadata": {
    "colab": {},
    "colab_type": "code",
    "id": "E0X8AM1YTIgv"
   },
   "outputs": [],
   "source": [
    "# To avoid implementing a complicated gradient back-propagation,\n",
    "# we will try a very simple architecture with no hidden layer \n",
    "def initLayer(n_input,n_output):\n",
    "    \"\"\"\n",
    "    Initialize the weights, return the number of parameters\n",
    "    Inputs: n_input: the number of input units - int\n",
    "          : n_output: the number of output units - int\n",
    "    Outputs: W: a matrix of weights for the layer - numpy ndarray\n",
    "           : b: a vector bias for the layer - numpy ndarray\n",
    "           : nb_params: the number of parameters  - int\n",
    "    \"\"\"\n",
    "    # START CODE HERE\n",
    "    W = np.zeros((n_output, n_input))\n",
    "    b = np.zeros(n_output)\n",
    "    for i in range(n_output):\n",
    "        for j in range(n_input):\n",
    "            W[i,j] = np.random.normal()\n",
    "        b[i] = np.random.normal()\n",
    "    nb_params = n_output*n_input + n_output\n",
    "    # END CODE HERE\n",
    "    return W, b, nb_params"
   ]
  },
  {
   "cell_type": "code",
   "execution_count": 0,
   "metadata": {
    "colab": {},
    "colab_type": "code",
    "id": "0MmqTlhVTIgz"
   },
   "outputs": [],
   "source": [
    "n_training = X_train_col.shape[0] \n",
    "n_feature = X_train_col.shape[1] \n",
    "n_labels = 10\n",
    "W, b, nb_params = initLayer(n_feature, n_labels)\n",
    "\n"
   ]
  },
  {
   "cell_type": "code",
   "execution_count": 0,
   "metadata": {
    "colab": {},
    "colab_type": "code",
    "id": "9srIsOTcTIg7"
   },
   "outputs": [],
   "source": [
    "def forward(W, b, X):\n",
    "    \"\"\"\n",
    "    Perform the forward propagation\n",
    "    Inputs: W: the weights - numpy ndarray\n",
    "          : b: the bias - numpy ndarray\n",
    "          : X: the batch - numpy ndarray\n",
    "    Outputs: z: outputs - numpy ndarray\n",
    "    \"\"\"\n",
    "    z = np.dot(W,X) + b\n",
    "    return z"
   ]
  },
  {
   "cell_type": "markdown",
   "metadata": {
    "colab_type": "text",
    "id": "Ha5idqYITIhA"
   },
   "source": [
    "## Computing the output \n",
    "\n",
    "To obtain classification probabilities, we use the softmax function:\n",
    "$$ \\mathbf{o} = softmax(\\mathbf{z}) \\text{         with          } o_i = \\frac{\\exp(z_i)}{\\sum_{j=0}^{9} \\exp(z_j)} $$\n",
    "\n",
    "The usual difficulty with the softmax function is the possibility of overflow when the scores $z_i$ are already large. Since a softmax is not affected by a shift affecting the whole vector $\\mathbf{z}$:\n",
    "$$ \\frac{\\exp(z_i - c)}{\\sum_{j=0}^{9} \\exp(z_j - c)} =  \\frac{\\exp(c) \\exp(z_i)}{\\exp(c) \\sum_{j=0}^{9} \\exp(z_j)} = \\frac{\\exp(z_i)}{\\sum_{j=0}^{9} \\exp(z_j)}$$\n",
    "what trick can we use to ensure we will not encounter any overflow ? "
   ]
  },
  {
   "cell_type": "code",
   "execution_count": 0,
   "metadata": {
    "colab": {},
    "colab_type": "code",
    "id": "8u6FVYVzTIhC"
   },
   "outputs": [],
   "source": [
    "import scipy.special as sp\n",
    "def softmax(z):\n",
    "    \"\"\"\n",
    "    Perform the softmax transformation to the pre-activation values\n",
    "    Inputs: z: the pre-activation values - numpy ndarray\n",
    "    Outputs: out: the activation values - numpy ndarray\n",
    "    \"\"\"\n",
    "    out = sp.softmax(z) # CODE HERE\n",
    "    return out"
   ]
  },
  {
   "cell_type": "markdown",
   "metadata": {
    "colab_type": "text",
    "id": "6_EzoYoqTIhH"
   },
   "source": [
    "## Making updates\n",
    "\n",
    "We define a learning rate $\\eta$. The goal is to be able to apply updates:\n",
    "$$ \\mathbf{W}^{t+1} = \\mathbf{W}^{t} - \\nabla_{\\mathbf{W}} l_{ML} $$\n",
    "\n",
    "In order to do this, we will compute this gradient (and the bias) in the function ```update```. In the next function ```updateParams```, we will actually apply the update with regularization. \n",
    "\n",
    "Reminder: the gradient $\\nabla_{\\mathbf{W}} l_{ML}$ is the matrix containing the partial derivatives \n",
    "$$ \\left[\\frac{\\delta l_{ML}}{\\delta W_{ij}}\\right]_{i=1..784, j=1..10} $$\n",
    "\n",
    "\n",
    "Coordinate by coordinate, we obtain the following update: \n",
    "$$ W_{ij}^{t+1} = W_{ij}^{t} - \\frac{\\delta l_{ML}}{\\delta W_{ij}} $$\n",
    "\n",
    "Via the chain rule, we obtain, for an input feature $i \\in [0, 783]$ and a output class $j \\in [0, 9]$: $$\\frac{\\delta l_{ML}}{\\delta W_{ij}} = \\frac{\\delta l_{ML}}{\\delta z_{j}} \\frac{\\delta z_j}{\\delta W_{ij}}$$ \n",
    "\n",
    "It's easy to compute that $\\frac{\\delta z_j}{\\delta W_{ij}} = x_i$\n",
    "\n",
    "We compute the softmax derivative, to obtain:\n",
    "$$ \\nabla_{\\mathbf{z}} l_{ML} = \\mathbf{o} - \\mathbf{y} $$\n",
    "\n",
    "Hence, $\\frac{\\delta l_{ML}}{\\delta z_{j}} = o_j - y_j$ and we obtain that $$\\frac{\\delta l_{ML}}{\\delta W_{ij}} = (o_j - y_j) x_i$$\n",
    "\n",
    "This can easily be written as a scalar product, and a similar computation (even easier, actually) can be done for $\\mathbf{b}$. Noting $\\nabla_{\\mathbf{z}} l_{ML} = \\mathbf{o} - \\mathbf{y}$ as ```grad``` in the following function, compute the gradients $\\nabla_{\\mathbf{W}} l_{ML}$ and $\\nabla_{\\mathbf{b}} l_{ML}$ in order to call the function ```updateParams```.\n",
    "\n",
    "Note: the regularizer and the weight_decay $\\lambda$ are used in ```updateParams```."
   ]
  },
  {
   "cell_type": "markdown",
   "metadata": {
    "colab_type": "text",
    "id": "VpLFEfgf20HB"
   },
   "source": [
    "Assuming the loss function is the mean squared error:\n",
    "$$l = \\frac{1}{2}(softmax(Wx +b)-y)^2$$\n",
    "We have : \n",
    "$$\\frac{\\partial l}{\\partial b} = \\frac{\\partial l}{\\partial z} \\frac{\\partial z}{\\partial b}$$\n",
    "Given that :\n",
    "$$ \\frac{\\delta l_{ML}}{\\delta z} = \\mathbf{o} - \\mathbf{y} $$\n",
    "and : \n",
    "$$ \\frac{\\delta z}{\\delta b} = \\mathbf{1} $$\n",
    "We have then : \n",
    "$$\\frac{\\partial l}{\\partial b} = \\mathbf{o} - \\mathbf{y}$$"
   ]
  },
  {
   "cell_type": "code",
   "execution_count": 0,
   "metadata": {
    "colab": {},
    "colab_type": "code",
    "id": "oSB5k5zFTIhJ"
   },
   "outputs": [],
   "source": [
    "def update(eta, W, b, grad, X, regularizer, weight_decay):\n",
    "    \"\"\"\n",
    "    Perform the update of the parameters\n",
    "    Inputs: eta: the step-size of the gradient descent - float \n",
    "          : W: the weights - ndarray\n",
    "          : b: the bias -  ndarray\n",
    "          : grad: the gradient of the activations w.r.t. to the loss -  list of ndarray\n",
    "          : X: the data -  ndarray\n",
    "          : regularizer: 'L2' or None - the regularizer to be used in updateParams\n",
    "          : weight_decay: the weight decay to be used in updateParams - float\n",
    "    Outputs: W: the weights updated -  ndarray\n",
    "           : b: the bias updated -  ndarray\n",
    "    \"\"\"\n",
    "    grad_1 = grad.reshape(10,1) #easier to compute the dot product\n",
    "    X_1 = X.reshape(784,1)\n",
    "    grad_w = np.dot(grad_1,X_1.T)\n",
    "    #Assuming the loss function is the mean squared error\n",
    "    grad_b = grad\n",
    "        \n",
    "    W = updateParams(W, grad_w, eta, regularizer, weight_decay)\n",
    "    b = updateParams(b, grad_b, eta, regularizer, weight_decay)\n",
    "    return W, b"
   ]
  },
  {
   "cell_type": "markdown",
   "metadata": {
    "colab_type": "text",
    "id": "EvRlRKCjTIhN"
   },
   "source": [
    "The update rule is affected by regularization. We implement two cases: No regularization, or L2 regularization. Use the two possible update rules to implement the following function:"
   ]
  },
  {
   "cell_type": "code",
   "execution_count": 0,
   "metadata": {
    "colab": {},
    "colab_type": "code",
    "id": "rX2V2fNwTIhO"
   },
   "outputs": [],
   "source": [
    "def updateParams(param, grad_param, eta, regularizer=None, weight_decay=0.):\n",
    "    \"\"\"\n",
    "    Perform the update of the parameters\n",
    "    Inputs: param: the network parameters - ndarray\n",
    "          : grad_param: the updates of the parameters - ndarray\n",
    "          : eta: the step-size of the gradient descent - float\n",
    "          : weight_decay: the weight-decay - float\n",
    "    Outputs: the parameters updated - ndarray\n",
    "    \"\"\"\n",
    "    if regularizer==None:\n",
    "        return param - eta*grad_param\n",
    "    elif regularizer=='L2':\n",
    "        return  # CODE HERE\n",
    "    else:\n",
    "        raise NotImplementedError"
   ]
  },
  {
   "cell_type": "markdown",
   "metadata": {
    "colab_type": "text",
    "id": "lYGZn1tnTIhT"
   },
   "source": [
    "## Computing the Accuracy\n",
    "\n",
    "Here, we simply use the model to predict the class (by taking the argmax of the output !) for every example in ```X```, and count the number of times the model is right, to output the accuracy."
   ]
  },
  {
   "cell_type": "code",
   "execution_count": 0,
   "metadata": {
    "colab": {},
    "colab_type": "code",
    "id": "AMpJX-sYTIhZ"
   },
   "outputs": [],
   "source": [
    "import pdb\n",
    "def computeAcc(W, b, X, labels):\n",
    "    \"\"\"\n",
    "    Compute the loss value of the current network on the full batch\n",
    "    Inputs: act_func: the activation function - function\n",
    "          : W: the weights - list of ndarray\n",
    "          : b: the bias - list of ndarray\n",
    "          : X: the batch - ndarray\n",
    "          : labels: the labels corresponding to the batch\n",
    "    Outputs: loss: the negative log-likelihood - float\n",
    "           : accuracy: the ratio of examples that are well-classified - float\n",
    "    \"\"\" \n",
    "    ###Computing predictions\n",
    "    #Je suppose ici que X est le vecteur qui contient toutes les données\n",
    "    #ce qui est un peu perturbant vis à vis du début\n",
    "    y_pred = [] #vecteur contient les prédictions\n",
    "    for x in X:\n",
    "        ### Forward propagation\n",
    "        z = softmax(forward(W,b,x))\n",
    "        ### Compute the softmax and the prediction\n",
    "        pred = np.zeros(z.shape[0])\n",
    "        pred[np.argmax(z)]+=1\n",
    "        y_pred.append(pred)\n",
    "    y_pred = np.array(y_pred)\n",
    "    ### Compute the accuracy\n",
    "    temp = np.abs(y_pred - labels)\n",
    "    accuracy = np.sum((1 - 1/2*np.sum(temp, axis =1 ))/y_pred.shape[0], axis = 0)#la somme de temp vaut 2 si \n",
    "    #on se trompe et 0 sinon\n",
    "      \n",
    "    return y_pred,temp,accuracy"
   ]
  },
  {
   "cell_type": "code",
   "execution_count": 0,
   "metadata": {
    "colab": {},
    "colab_type": "code",
    "id": "8DAH-mG120HQ"
   },
   "outputs": [],
   "source": [
    "y_pred,temp,accuracy = computeAcc(W,b,X_train_col,y_train_OH)"
   ]
  },
  {
   "cell_type": "code",
   "execution_count": 0,
   "metadata": {
    "colab": {
     "base_uri": "https://localhost:8080/",
     "height": 34
    },
    "colab_type": "code",
    "id": "logoOcpc20HT",
    "outputId": "4eaff6d2-c510-40b1-c83a-949ac52cc378"
   },
   "outputs": [
    {
     "data": {
      "text/plain": [
       "0.16063333333333332"
      ]
     },
     "execution_count": 42,
     "metadata": {
      "tags": []
     },
     "output_type": "execute_result"
    }
   ],
   "source": [
    "accuracy"
   ]
  },
  {
   "cell_type": "markdown",
   "metadata": {
    "colab_type": "text",
    "id": "SAF_kfRCTIhe"
   },
   "source": [
    "## Preparing training\n",
    "\n",
    "The following hyperparameters are given. Next, we can assemble all the function previously defined to implement a training loop. We will train the classifier on **one epoch**, meaning that the model will see each trainin example once. "
   ]
  },
  {
   "cell_type": "code",
   "execution_count": 0,
   "metadata": {
    "colab": {},
    "colab_type": "code",
    "id": "8hpuw7euTIhf"
   },
   "outputs": [],
   "source": [
    "# Optimization\n",
    "eta = 0.01\n",
    "regularizer = None\n",
    "weight_decay = 0.0001\n",
    "\n",
    "# Training\n",
    "log_interval = 5000"
   ]
  },
  {
   "cell_type": "code",
   "execution_count": 0,
   "metadata": {
    "colab": {
     "base_uri": "https://localhost:8080/",
     "height": 1000
    },
    "colab_type": "code",
    "id": "SteDm8vQTIhj",
    "outputId": "a596a8ed-5e25-4b8c-b834-3befb14a9991"
   },
   "outputs": [
    {
     "name": "stdout",
     "output_type": "stream",
     "text": [
      "0 (array([[0., 0., 0., ..., 0., 0., 0.],\n",
      "       [0., 0., 0., ..., 0., 0., 0.],\n",
      "       [0., 0., 0., ..., 0., 1., 0.],\n",
      "       ...,\n",
      "       [1., 0., 0., ..., 0., 0., 0.],\n",
      "       [0., 0., 0., ..., 0., 1., 0.],\n",
      "       [0., 0., 0., ..., 0., 0., 0.]]), array([[0., 0., 0., ..., 0., 0., 0.],\n",
      "       [1., 0., 0., ..., 0., 0., 0.],\n",
      "       [0., 0., 0., ..., 0., 1., 0.],\n",
      "       ...,\n",
      "       [1., 0., 0., ..., 0., 0., 0.],\n",
      "       [0., 0., 0., ..., 0., 1., 0.],\n",
      "       [0., 0., 0., ..., 0., 1., 0.]]), 0.16128333333333333) (array([[0., 0., 0., ..., 0., 0., 1.],\n",
      "       [0., 0., 0., ..., 0., 1., 0.],\n",
      "       [0., 1., 0., ..., 0., 0., 0.],\n",
      "       ...,\n",
      "       [0., 0., 0., ..., 0., 0., 0.],\n",
      "       [0., 0., 0., ..., 0., 0., 0.],\n",
      "       [0., 0., 0., ..., 0., 0., 0.]]), array([[0., 0., 0., ..., 1., 0., 1.],\n",
      "       [0., 0., 1., ..., 0., 1., 0.],\n",
      "       [0., 0., 0., ..., 0., 0., 0.],\n",
      "       ...,\n",
      "       [0., 0., 0., ..., 0., 0., 0.],\n",
      "       [0., 0., 0., ..., 0., 0., 0.],\n",
      "       [0., 0., 0., ..., 0., 0., 0.]]), 0.1577) 0.01\n",
      "5000 (array([[0., 0., 0., ..., 0., 0., 0.],\n",
      "       [1., 0., 0., ..., 0., 0., 0.],\n",
      "       [0., 0., 0., ..., 0., 0., 0.],\n",
      "       ...,\n",
      "       [0., 0., 0., ..., 0., 0., 0.],\n",
      "       [0., 0., 0., ..., 0., 0., 0.],\n",
      "       [0., 0., 0., ..., 0., 1., 0.]]), array([[0., 0., 0., ..., 0., 0., 0.],\n",
      "       [0., 0., 0., ..., 0., 0., 0.],\n",
      "       [0., 0., 0., ..., 0., 0., 0.],\n",
      "       ...,\n",
      "       [0., 0., 0., ..., 0., 0., 0.],\n",
      "       [0., 0., 0., ..., 0., 0., 0.],\n",
      "       [0., 0., 0., ..., 0., 0., 0.]]), 0.802666666666667) (array([[0., 0., 0., ..., 1., 0., 0.],\n",
      "       [0., 0., 0., ..., 0., 1., 0.],\n",
      "       [0., 0., 0., ..., 0., 1., 0.],\n",
      "       ...,\n",
      "       [0., 0., 0., ..., 0., 1., 0.],\n",
      "       [0., 0., 0., ..., 0., 1., 0.],\n",
      "       [0., 0., 0., ..., 0., 0., 0.]]), array([[0., 0., 0., ..., 0., 0., 0.],\n",
      "       [0., 0., 1., ..., 0., 1., 0.],\n",
      "       [0., 1., 0., ..., 0., 1., 0.],\n",
      "       ...,\n",
      "       [0., 0., 0., ..., 0., 1., 0.],\n",
      "       [0., 0., 0., ..., 0., 1., 0.],\n",
      "       [0., 0., 0., ..., 0., 0., 0.]]), 0.5890000000000001) 0.01\n",
      "10000 (array([[0., 0., 0., ..., 0., 0., 0.],\n",
      "       [1., 0., 0., ..., 0., 0., 0.],\n",
      "       [0., 0., 0., ..., 0., 0., 0.],\n",
      "       ...,\n",
      "       [0., 0., 0., ..., 0., 0., 0.],\n",
      "       [0., 0., 0., ..., 0., 0., 0.],\n",
      "       [0., 0., 0., ..., 0., 1., 0.]]), array([[0., 0., 0., ..., 0., 0., 0.],\n",
      "       [0., 0., 0., ..., 0., 0., 0.],\n",
      "       [0., 0., 0., ..., 0., 0., 0.],\n",
      "       ...,\n",
      "       [0., 0., 0., ..., 0., 0., 0.],\n",
      "       [0., 0., 0., ..., 0., 0., 0.],\n",
      "       [0., 0., 0., ..., 0., 0., 0.]]), 0.8387500000000002) (array([[0., 0., 0., ..., 1., 0., 0.],\n",
      "       [0., 0., 0., ..., 0., 1., 0.],\n",
      "       [0., 0., 0., ..., 0., 1., 0.],\n",
      "       ...,\n",
      "       [0., 0., 0., ..., 0., 1., 0.],\n",
      "       [0., 0., 0., ..., 0., 1., 0.],\n",
      "       [0., 0., 0., ..., 0., 0., 0.]]), array([[0., 0., 0., ..., 0., 0., 0.],\n",
      "       [0., 0., 1., ..., 0., 1., 0.],\n",
      "       [0., 1., 0., ..., 0., 1., 0.],\n",
      "       ...,\n",
      "       [0., 0., 0., ..., 0., 1., 0.],\n",
      "       [0., 0., 0., ..., 0., 1., 0.],\n",
      "       [0., 0., 0., ..., 0., 0., 0.]]), 0.6737000000000002) 0.01\n",
      "15000 (array([[0., 0., 0., ..., 0., 0., 0.],\n",
      "       [1., 0., 0., ..., 0., 0., 0.],\n",
      "       [0., 0., 0., ..., 0., 0., 0.],\n",
      "       ...,\n",
      "       [0., 0., 0., ..., 0., 0., 0.],\n",
      "       [0., 0., 0., ..., 0., 0., 0.],\n",
      "       [0., 0., 0., ..., 0., 1., 0.]]), array([[0., 0., 0., ..., 0., 0., 0.],\n",
      "       [0., 0., 0., ..., 0., 0., 0.],\n",
      "       [0., 0., 0., ..., 0., 0., 0.],\n",
      "       ...,\n",
      "       [0., 0., 0., ..., 0., 0., 0.],\n",
      "       [0., 0., 0., ..., 0., 0., 0.],\n",
      "       [0., 0., 0., ..., 0., 0., 0.]]), 0.8528333333333336) (array([[0., 0., 0., ..., 1., 0., 0.],\n",
      "       [0., 0., 0., ..., 0., 1., 0.],\n",
      "       [0., 0., 0., ..., 0., 1., 0.],\n",
      "       ...,\n",
      "       [0., 0., 0., ..., 0., 1., 0.],\n",
      "       [0., 0., 0., ..., 0., 1., 0.],\n",
      "       [0., 0., 0., ..., 0., 0., 0.]]), array([[0., 0., 0., ..., 0., 0., 0.],\n",
      "       [0., 0., 1., ..., 0., 1., 0.],\n",
      "       [0., 1., 0., ..., 0., 1., 0.],\n",
      "       ...,\n",
      "       [0., 0., 0., ..., 0., 1., 0.],\n",
      "       [0., 0., 0., ..., 0., 1., 0.],\n",
      "       [0., 0., 0., ..., 0., 0., 0.]]), 0.7225000000000001) 0.01\n",
      "20000 (array([[0., 0., 0., ..., 0., 0., 0.],\n",
      "       [1., 0., 0., ..., 0., 0., 0.],\n",
      "       [0., 0., 0., ..., 0., 0., 0.],\n",
      "       ...,\n",
      "       [0., 0., 0., ..., 0., 0., 0.],\n",
      "       [0., 0., 0., ..., 0., 0., 0.],\n",
      "       [0., 0., 0., ..., 0., 1., 0.]]), array([[0., 0., 0., ..., 0., 0., 0.],\n",
      "       [0., 0., 0., ..., 0., 0., 0.],\n",
      "       [0., 0., 0., ..., 0., 0., 0.],\n",
      "       ...,\n",
      "       [0., 0., 0., ..., 0., 0., 0.],\n",
      "       [0., 0., 0., ..., 0., 0., 0.],\n",
      "       [0., 0., 0., ..., 0., 0., 0.]]), 0.8679000000000001) (array([[0., 0., 0., ..., 1., 0., 0.],\n",
      "       [0., 0., 0., ..., 0., 1., 0.],\n",
      "       [0., 1., 0., ..., 0., 0., 0.],\n",
      "       ...,\n",
      "       [0., 0., 0., ..., 0., 1., 0.],\n",
      "       [0., 0., 0., ..., 0., 1., 0.],\n",
      "       [0., 0., 0., ..., 0., 0., 0.]]), array([[0., 0., 0., ..., 0., 0., 0.],\n",
      "       [0., 0., 1., ..., 0., 1., 0.],\n",
      "       [0., 0., 0., ..., 0., 0., 0.],\n",
      "       ...,\n",
      "       [0., 0., 0., ..., 0., 1., 0.],\n",
      "       [0., 0., 0., ..., 0., 1., 0.],\n",
      "       [0., 0., 0., ..., 0., 0., 0.]]), 0.7516000000000003) 0.01\n",
      "25000 (array([[0., 0., 0., ..., 0., 0., 0.],\n",
      "       [1., 0., 0., ..., 0., 0., 0.],\n",
      "       [0., 0., 0., ..., 0., 0., 1.],\n",
      "       ...,\n",
      "       [0., 0., 0., ..., 0., 0., 0.],\n",
      "       [0., 0., 0., ..., 0., 0., 0.],\n",
      "       [0., 0., 0., ..., 0., 1., 0.]]), array([[0., 0., 0., ..., 0., 0., 0.],\n",
      "       [0., 0., 0., ..., 0., 0., 0.],\n",
      "       [0., 0., 0., ..., 0., 0., 1.],\n",
      "       ...,\n",
      "       [0., 0., 0., ..., 0., 0., 0.],\n",
      "       [0., 0., 0., ..., 0., 0., 0.],\n",
      "       [0., 0., 0., ..., 0., 0., 0.]]), 0.8699833333333336) (array([[0., 0., 0., ..., 1., 0., 0.],\n",
      "       [0., 0., 0., ..., 0., 1., 0.],\n",
      "       [0., 1., 0., ..., 0., 0., 0.],\n",
      "       ...,\n",
      "       [0., 0., 0., ..., 0., 1., 0.],\n",
      "       [0., 0., 0., ..., 0., 1., 0.],\n",
      "       [0., 0., 0., ..., 0., 0., 0.]]), array([[0., 0., 0., ..., 0., 0., 0.],\n",
      "       [0., 0., 1., ..., 0., 1., 0.],\n",
      "       [0., 0., 0., ..., 0., 0., 0.],\n",
      "       ...,\n",
      "       [0., 0., 0., ..., 0., 1., 0.],\n",
      "       [0., 0., 0., ..., 0., 1., 0.],\n",
      "       [0., 0., 0., ..., 0., 0., 0.]]), 0.7432000000000002) 0.01\n",
      "30000 (array([[0., 0., 0., ..., 0., 0., 0.],\n",
      "       [1., 0., 0., ..., 0., 0., 0.],\n",
      "       [0., 0., 0., ..., 0., 0., 0.],\n",
      "       ...,\n",
      "       [0., 0., 0., ..., 0., 0., 0.],\n",
      "       [0., 0., 0., ..., 0., 0., 0.],\n",
      "       [0., 0., 0., ..., 0., 1., 0.]]), array([[0., 0., 0., ..., 0., 0., 0.],\n",
      "       [0., 0., 0., ..., 0., 0., 0.],\n",
      "       [0., 0., 0., ..., 0., 0., 0.],\n",
      "       ...,\n",
      "       [0., 0., 0., ..., 0., 0., 0.],\n",
      "       [0., 0., 0., ..., 0., 0., 0.],\n",
      "       [0., 0., 0., ..., 0., 0., 0.]]), 0.8778833333333336) (array([[0., 0., 0., ..., 1., 0., 0.],\n",
      "       [0., 0., 0., ..., 0., 1., 0.],\n",
      "       [0., 0., 0., ..., 0., 1., 0.],\n",
      "       ...,\n",
      "       [0., 0., 0., ..., 0., 1., 0.],\n",
      "       [0., 0., 0., ..., 0., 1., 0.],\n",
      "       [0., 0., 0., ..., 0., 0., 0.]]), array([[0., 0., 0., ..., 0., 0., 0.],\n",
      "       [0., 0., 1., ..., 0., 1., 0.],\n",
      "       [0., 1., 0., ..., 0., 1., 0.],\n",
      "       ...,\n",
      "       [0., 0., 0., ..., 0., 1., 0.],\n",
      "       [0., 0., 0., ..., 0., 1., 0.],\n",
      "       [0., 0., 0., ..., 0., 0., 0.]]), 0.6376000000000002) 0.01\n",
      "35000 (array([[0., 0., 0., ..., 0., 0., 0.],\n",
      "       [1., 0., 0., ..., 0., 0., 0.],\n",
      "       [0., 0., 0., ..., 0., 0., 0.],\n",
      "       ...,\n",
      "       [0., 0., 0., ..., 0., 0., 0.],\n",
      "       [0., 0., 0., ..., 0., 0., 0.],\n",
      "       [0., 0., 0., ..., 0., 0., 0.]]), array([[0., 0., 0., ..., 0., 0., 0.],\n",
      "       [0., 0., 0., ..., 0., 0., 0.],\n",
      "       [0., 0., 0., ..., 0., 0., 0.],\n",
      "       ...,\n",
      "       [0., 0., 0., ..., 0., 0., 0.],\n",
      "       [0., 0., 0., ..., 0., 0., 0.],\n",
      "       [0., 0., 0., ..., 0., 1., 0.]]), 0.8832333333333335) (array([[0., 0., 0., ..., 1., 0., 0.],\n",
      "       [0., 0., 0., ..., 0., 1., 0.],\n",
      "       [0., 1., 0., ..., 0., 0., 0.],\n",
      "       ...,\n",
      "       [0., 0., 0., ..., 0., 1., 0.],\n",
      "       [0., 0., 0., ..., 0., 1., 0.],\n",
      "       [0., 0., 0., ..., 0., 0., 0.]]), array([[0., 0., 0., ..., 0., 0., 0.],\n",
      "       [0., 0., 1., ..., 0., 1., 0.],\n",
      "       [0., 0., 0., ..., 0., 0., 0.],\n",
      "       ...,\n",
      "       [0., 0., 0., ..., 0., 1., 0.],\n",
      "       [0., 0., 0., ..., 0., 1., 0.],\n",
      "       [0., 0., 0., ..., 0., 0., 0.]]), 0.6686000000000001) 0.01\n",
      "40000 (array([[0., 0., 0., ..., 0., 0., 0.],\n",
      "       [1., 0., 0., ..., 0., 0., 0.],\n",
      "       [0., 0., 0., ..., 0., 0., 0.],\n",
      "       ...,\n",
      "       [0., 0., 0., ..., 0., 0., 0.],\n",
      "       [0., 0., 0., ..., 0., 0., 0.],\n",
      "       [0., 0., 0., ..., 0., 1., 0.]]), array([[0., 0., 0., ..., 0., 0., 0.],\n",
      "       [0., 0., 0., ..., 0., 0., 0.],\n",
      "       [0., 0., 0., ..., 0., 0., 0.],\n",
      "       ...,\n",
      "       [0., 0., 0., ..., 0., 0., 0.],\n",
      "       [0., 0., 0., ..., 0., 0., 0.],\n",
      "       [0., 0., 0., ..., 0., 0., 0.]]), 0.8806333333333337) (array([[0., 0., 0., ..., 1., 0., 0.],\n",
      "       [0., 0., 1., ..., 0., 0., 0.],\n",
      "       [0., 1., 0., ..., 0., 0., 0.],\n",
      "       ...,\n",
      "       [0., 0., 0., ..., 0., 1., 0.],\n",
      "       [0., 0., 0., ..., 0., 1., 0.],\n",
      "       [0., 0., 0., ..., 0., 0., 0.]]), array([[0., 0., 0., ..., 0., 0., 0.],\n",
      "       [0., 0., 0., ..., 0., 0., 0.],\n",
      "       [0., 0., 0., ..., 0., 0., 0.],\n",
      "       ...,\n",
      "       [0., 0., 0., ..., 0., 1., 0.],\n",
      "       [0., 0., 0., ..., 0., 1., 0.],\n",
      "       [0., 0., 0., ..., 0., 0., 0.]]), 0.7248000000000002) 0.01\n",
      "45000 (array([[0., 0., 0., ..., 0., 0., 0.],\n",
      "       [1., 0., 0., ..., 0., 0., 0.],\n",
      "       [0., 0., 0., ..., 0., 0., 0.],\n",
      "       ...,\n",
      "       [0., 0., 0., ..., 0., 0., 0.],\n",
      "       [0., 0., 0., ..., 0., 0., 0.],\n",
      "       [0., 0., 0., ..., 0., 1., 0.]]), array([[0., 0., 0., ..., 0., 0., 0.],\n",
      "       [0., 0., 0., ..., 0., 0., 0.],\n",
      "       [0., 0., 0., ..., 0., 0., 0.],\n",
      "       ...,\n",
      "       [0., 0., 0., ..., 0., 0., 0.],\n",
      "       [0., 0., 0., ..., 0., 0., 0.],\n",
      "       [0., 0., 0., ..., 0., 0., 0.]]), 0.8881166666666668) (array([[0., 0., 0., ..., 1., 0., 0.],\n",
      "       [0., 0., 0., ..., 0., 1., 0.],\n",
      "       [0., 1., 0., ..., 0., 0., 0.],\n",
      "       ...,\n",
      "       [0., 0., 0., ..., 0., 0., 0.],\n",
      "       [0., 0., 0., ..., 0., 1., 0.],\n",
      "       [0., 0., 0., ..., 0., 0., 0.]]), array([[0., 0., 0., ..., 0., 0., 0.],\n",
      "       [0., 0., 1., ..., 0., 1., 0.],\n",
      "       [0., 0., 0., ..., 0., 0., 0.],\n",
      "       ...,\n",
      "       [0., 0., 0., ..., 0., 0., 0.],\n",
      "       [0., 0., 0., ..., 0., 1., 0.],\n",
      "       [0., 0., 0., ..., 0., 0., 0.]]), 0.7044000000000002) 0.01\n",
      "50000 (array([[0., 0., 0., ..., 0., 0., 0.],\n",
      "       [1., 0., 0., ..., 0., 0., 0.],\n",
      "       [0., 0., 0., ..., 0., 0., 0.],\n",
      "       ...,\n",
      "       [0., 0., 0., ..., 0., 0., 0.],\n",
      "       [0., 0., 0., ..., 0., 0., 0.],\n",
      "       [0., 0., 0., ..., 0., 1., 0.]]), array([[0., 0., 0., ..., 0., 0., 0.],\n",
      "       [0., 0., 0., ..., 0., 0., 0.],\n",
      "       [0., 0., 0., ..., 0., 0., 0.],\n",
      "       ...,\n",
      "       [0., 0., 0., ..., 0., 0., 0.],\n",
      "       [0., 0., 0., ..., 0., 0., 0.],\n",
      "       [0., 0., 0., ..., 0., 0., 0.]]), 0.8827166666666668) (array([[0., 0., 0., ..., 1., 0., 0.],\n",
      "       [0., 0., 0., ..., 0., 1., 0.],\n",
      "       [0., 0., 0., ..., 0., 1., 0.],\n",
      "       ...,\n",
      "       [0., 0., 0., ..., 0., 1., 0.],\n",
      "       [0., 0., 0., ..., 0., 1., 0.],\n",
      "       [0., 0., 0., ..., 0., 0., 0.]]), array([[0., 0., 0., ..., 0., 0., 0.],\n",
      "       [0., 0., 1., ..., 0., 1., 0.],\n",
      "       [0., 1., 0., ..., 0., 1., 0.],\n",
      "       ...,\n",
      "       [0., 0., 0., ..., 0., 1., 0.],\n",
      "       [0., 0., 0., ..., 0., 1., 0.],\n",
      "       [0., 0., 0., ..., 0., 0., 0.]]), 0.6862000000000001) 0.01\n",
      "55000 (array([[0., 0., 0., ..., 0., 0., 0.],\n",
      "       [1., 0., 0., ..., 0., 0., 0.],\n",
      "       [0., 0., 0., ..., 0., 0., 0.],\n",
      "       ...,\n",
      "       [0., 0., 0., ..., 0., 0., 0.],\n",
      "       [0., 0., 0., ..., 0., 0., 0.],\n",
      "       [0., 0., 0., ..., 0., 1., 0.]]), array([[0., 0., 0., ..., 0., 0., 0.],\n",
      "       [0., 0., 0., ..., 0., 0., 0.],\n",
      "       [0., 0., 0., ..., 0., 0., 0.],\n",
      "       ...,\n",
      "       [0., 0., 0., ..., 0., 0., 0.],\n",
      "       [0., 0., 0., ..., 0., 0., 0.],\n",
      "       [0., 0., 0., ..., 0., 0., 0.]]), 0.8868500000000001) (array([[0., 0., 0., ..., 1., 0., 0.],\n",
      "       [0., 0., 0., ..., 0., 1., 0.],\n",
      "       [0., 0., 0., ..., 0., 1., 0.],\n",
      "       ...,\n",
      "       [0., 0., 0., ..., 0., 1., 0.],\n",
      "       [0., 0., 0., ..., 0., 1., 0.],\n",
      "       [0., 0., 0., ..., 0., 0., 0.]]), array([[0., 0., 0., ..., 0., 0., 0.],\n",
      "       [0., 0., 1., ..., 0., 1., 0.],\n",
      "       [0., 1., 0., ..., 0., 1., 0.],\n",
      "       ...,\n",
      "       [0., 0., 0., ..., 0., 1., 0.],\n",
      "       [0., 0., 0., ..., 0., 1., 0.],\n",
      "       [0., 0., 0., ..., 0., 0., 0.]]), 0.6710000000000003) 0.01\n",
      "Final result: (array([[0., 0., 0., ..., 0., 0., 0.],\n",
      "       [1., 0., 0., ..., 0., 0., 0.],\n",
      "       [0., 0., 0., ..., 0., 0., 0.],\n",
      "       ...,\n",
      "       [0., 0., 0., ..., 0., 0., 0.],\n",
      "       [0., 0., 0., ..., 0., 0., 0.],\n",
      "       [0., 0., 0., ..., 0., 1., 0.]]), array([[0., 0., 0., ..., 0., 0., 0.],\n",
      "       [0., 0., 0., ..., 0., 0., 0.],\n",
      "       [0., 0., 0., ..., 0., 0., 0.],\n",
      "       ...,\n",
      "       [0., 0., 0., ..., 0., 0., 0.],\n",
      "       [0., 0., 0., ..., 0., 0., 0.],\n",
      "       [0., 0., 0., ..., 0., 0., 0.]]), 0.8868500000000001) (array([[0., 0., 0., ..., 1., 0., 0.],\n",
      "       [0., 0., 0., ..., 0., 1., 0.],\n",
      "       [0., 0., 0., ..., 0., 1., 0.],\n",
      "       ...,\n",
      "       [0., 0., 0., ..., 0., 1., 0.],\n",
      "       [0., 0., 0., ..., 0., 1., 0.],\n",
      "       [0., 0., 0., ..., 0., 0., 0.]]), array([[0., 0., 0., ..., 0., 0., 0.],\n",
      "       [0., 0., 1., ..., 0., 1., 0.],\n",
      "       [0., 1., 0., ..., 0., 1., 0.],\n",
      "       ...,\n",
      "       [0., 0., 0., ..., 0., 1., 0.],\n",
      "       [0., 0., 0., ..., 0., 1., 0.],\n",
      "       [0., 0., 0., ..., 0., 0., 0.]]), 0.6710000000000003) 0.01\n"
     ]
    }
   ],
   "source": [
    "# Data structures for plotting\n",
    "g_train_acc=[]\n",
    "g_valid_acc=[]\n",
    "\n",
    "#######################\n",
    "### Learning process ##\n",
    "#######################\n",
    "for j in range(n_training):\n",
    "    ### Getting the example\n",
    "    X, y = X_train_col[j], y_train_OH[j]\n",
    "\n",
    "    ### Forward propagation\n",
    "    z = forward(W,b,X)\n",
    "\n",
    "    ### Compute the softmax\n",
    "    out = softmax(z)\n",
    "        \n",
    "    ### Compute the gradient at the top layer\n",
    "    derror = out - y # This is o - y \n",
    "\n",
    "    ### Update the parameters\n",
    "    W, b = update(eta, W, b, derror, X, regularizer, weight_decay)\n",
    "\n",
    "    if j % log_interval == 0:\n",
    "        ### Every log_interval examples, look at the training accuracy\n",
    "        train_accuracy = computeAcc(W, b, X_train_col, y_train_OH) \n",
    "\n",
    "        ### And the testing accuracy\n",
    "        test_accuracy = computeAcc(W, b, X_test_col, y_test_OH) \n",
    "\n",
    "        g_train_acc.append(train_accuracy)\n",
    "        g_valid_acc.append(test_accuracy)\n",
    "        result_line = str(int(j)) + \" \" + str(train_accuracy) + \" \" + str(test_accuracy) + \" \" + str(eta)\n",
    "        print(result_line)\n",
    "\n",
    "g_train_acc.append(train_accuracy)\n",
    "g_valid_acc.append(test_accuracy)\n",
    "result_line = \"Final result:\" + \" \" + str(train_accuracy) + \" \" + str(test_accuracy) + \" \" + str(eta)\n",
    "print(result_line)     "
   ]
  },
  {
   "cell_type": "markdown",
   "metadata": {
    "colab_type": "text",
    "id": "pnopEzDXTIhp"
   },
   "source": [
    "What can you say about the performance of this simple linear classifier ? "
   ]
  },
  {
   "cell_type": "markdown",
   "metadata": {
    "colab_type": "text",
    "id": "FutWceCEJvey"
   },
   "source": [
    "Test results are pretty low. It does not work pretty well. But it's about normal we did use only one layer, making a perceptron. Linear classification isn't very good for making differences between a 5 and a 7 for instance. "
   ]
  },
  {
   "cell_type": "markdown",
   "metadata": {
    "colab_type": "text",
    "id": "iafPdtuncbq7"
   },
   "source": [
    "<h1><center>MNIST classification using Keras<center></h1>"
   ]
  },
  {
   "cell_type": "markdown",
   "metadata": {
    "colab_type": "text",
    "id": "I4VrCB5La5rD"
   },
   "source": [
    "# Importing Keras"
   ]
  },
  {
   "cell_type": "code",
   "execution_count": 0,
   "metadata": {
    "colab": {
     "base_uri": "https://localhost:8080/",
     "height": 116
    },
    "colab_type": "code",
    "id": "OlKZ3Hnas7B4",
    "outputId": "eb0a6be6-b270-4ea3-d106-c885dc5220de"
   },
   "outputs": [
    {
     "data": {
      "text/html": [
       "<p style=\"color: red;\">\n",
       "The default version of TensorFlow in Colab will soon switch to TensorFlow 2.x.<br>\n",
       "We recommend you <a href=\"https://www.tensorflow.org/guide/migrate\" target=\"_blank\">upgrade</a> now \n",
       "or ensure your notebook will continue to use TensorFlow 1.x via the <code>%tensorflow_version 1.x</code> magic:\n",
       "<a href=\"https://colab.research.google.com/notebooks/tensorflow_version.ipynb\" target=\"_blank\">more info</a>.</p>\n"
      ],
      "text/plain": [
       "<IPython.core.display.HTML object>"
      ]
     },
     "metadata": {
      "tags": []
     },
     "output_type": "display_data"
    },
    {
     "name": "stderr",
     "output_type": "stream",
     "text": [
      "Using TensorFlow backend.\n"
     ]
    },
    {
     "name": "stdout",
     "output_type": "stream",
     "text": [
      "Using tensorflow version 1.15.0\n",
      "Using keras version 2.2.5\n"
     ]
    }
   ],
   "source": [
    "# Importing the Keras main module forcing tensorflow 1.x backend\n",
    "import numpy as np\n",
    "import tensorflow as tf\n",
    "import keras\n",
    "from sklearn.preprocessing import StandardScaler\n",
    "print(\"Using tensorflow version \" + str(tf.__version__))\n",
    "print(\"Using keras version \" + str(keras.__version__))"
   ]
  },
  {
   "cell_type": "markdown",
   "metadata": {
    "colab_type": "text",
    "id": "s_QLz9_jbRZq"
   },
   "source": [
    "## Loading and preparing the MNIST dataset\n",
    "\n",
    "Load the MNIST dataset via keras.datasets. Again, turn train and test labels into one-hot encoding, and reshape and normalize data as in the first exercise. "
   ]
  },
  {
   "cell_type": "code",
   "execution_count": 0,
   "metadata": {
    "cellView": "both",
    "colab": {
     "base_uri": "https://localhost:8080/",
     "height": 317
    },
    "colab_type": "code",
    "id": "gG83hGyVmijn",
    "outputId": "8ff72cd4-8ca1-478c-b660-d97acb01e961"
   },
   "outputs": [
    {
     "name": "stdout",
     "output_type": "stream",
     "text": [
      "Downloading data from https://s3.amazonaws.com/img-datasets/mnist.npz\n",
      "11493376/11490434 [==============================] - 1s 0us/step\n",
      "Je ne reconnais pas moi-même le numéro ... ahah\n"
     ]
    },
    {
     "data": {
      "image/png": "[encoded data removed]",
      "text/plain": [
       "<Figure size 432x288 with 1 Axes>"
      ]
     },
     "metadata": {
      "tags": []
     },
     "output_type": "display_data"
    }
   ],
   "source": [
    "#@title\n",
    "# The MNSIT dataset is ready to be imported from Keras into RAM\n",
    "# Warning: you cannot do that for larger databases (e.g., ImageNet)\n",
    "from keras.datasets import mnist\n",
    "from matplotlib import pyplot as plt\n",
    "# START CODE HERE\n",
    "(X_train,y_train),(X_test,y_test) = mnist.load_data()\n",
    "plt.imshow(X_train[0],cmap = 'gray') #ajouter cmap pour du noir et blanc\n",
    "print(\"Je ne reconnais pas moi-même le numéro ... ahah\")\n",
    "# END CODE HERE\n"
   ]
  },
  {
   "cell_type": "code",
   "execution_count": 0,
   "metadata": {
    "colab": {
     "base_uri": "https://localhost:8080/",
     "height": 52
    },
    "colab_type": "code",
    "id": "lQbkllF8mnaf",
    "outputId": "dac26fc5-0265-4aac-ce7d-87daff38425f"
   },
   "outputs": [
    {
     "name": "stdout",
     "output_type": "stream",
     "text": [
      "One Hot Encoded train labels examples:  [0 0 0 0 0 1 0 0 0 0] , [0 0 0 1 0 0 0 0 0 0]\n",
      "One Hot Encoded test  labels examples:  [0 1 0 0 0 0 0 0 0 0] , [0 1 0 0 0 0 0 0 0 0]\n"
     ]
    }
   ],
   "source": [
    "from keras.utils.np_utils import to_categorical\n",
    "# START CODE HERE\n",
    "y_train_OH = to_categorical(y_train, num_classes=10, dtype ='uint8' )\n",
    "y_test_OH  = to_categorical(y_test, num_classes=10, dtype ='uint8' )\n",
    "print('One Hot Encoded train labels examples:  %s , %s' %(str(y_train_OH[0]),str(y_train_OH[10])))\n",
    "print('One Hot Encoded test  labels examples:  %s , %s' %(str(y_test_OH[2]),str(y_train_OH[3])))\n",
    "# END CODE HERE\n"
   ]
  },
  {
   "cell_type": "code",
   "execution_count": 0,
   "metadata": {
    "colab": {
     "base_uri": "https://localhost:8080/",
     "height": 34
    },
    "colab_type": "code",
    "id": "ptTRSDo5nJyZ",
    "outputId": "9b0b67f2-3002-4dc4-a0c5-6a09ece3dd37"
   },
   "outputs": [
    {
     "name": "stdout",
     "output_type": "stream",
     "text": [
      "Feature matrix mean : 0.000000 standard deviation : 0.956316\n"
     ]
    }
   ],
   "source": [
    "# Reshape to proper images with 1 color channel according to backend scheme\n",
    "# START CODE HERE\n",
    "img_rows, img_cols = X_train.shape[1], X_train.shape[2]\n",
    "X_train_col = X_train.reshape(X_train.shape[0],-1)\n",
    "if (X_train_col[0].shape[0] != img_cols*img_rows):\n",
    "    print('X_train_col size : %i != img_cols* img_rows : %i '%(X_train_col[0].shape[0], img_cols*img_rows))\n",
    "    raise Exception(\"Error reshaping\")\n",
    "# END CODE HERE\n",
    "\n",
    "# Cast pixels from uint8 to float32\n",
    "X_train_col = X_train_col.astype('float32')\n",
    "\n",
    "#Do the same for the test set \n",
    "X_test_col = X_test.reshape(X_test.shape[0],-1)\n",
    "X_test_col = X_test_col.astype('float32')\n",
    "\n",
    "# Now let us normalize the images so that they have zero mean and standard deviation\n",
    "# Hint: are real testing data statistics known at training time ?\n",
    "# START CODE HERE\n",
    "scaler = StandardScaler()\n",
    "StandardScaler.fit(scaler,X_train_col)\n",
    "X_train_col = StandardScaler.transform(scaler,X_train_col)\n",
    "print('Feature matrix mean : %f standard deviation : %f'%(np.mean(X_train_col),np.std(X_train_col)))\n",
    "# END CODE HERE"
   ]
  },
  {
   "cell_type": "markdown",
   "metadata": {
    "colab_type": "text",
    "id": "lnKYaP-KVoOs"
   },
   "source": [
    "## Defining the neural network architecture (i.e., the network model)\n",
    "\n",
    "Look at this [cheatsheet](https://s3.amazonaws.com/assets.datacamp.com/blog_assets/Keras_Cheat_Sheet_Python.pdf) for some basic information on how to use numpy.\n",
    "\n",
    "First, try to replicate the classifier of the first exercise. Secondly, create a fully connected network.\n",
    "For the fully connected layer, you can for example use this architecture: \n",
    "$$ (784) \\rightarrow (300) \\rightarrow (10) $$\n",
    "For this first implementation of the network, use only sigmoid activations in the hidden layer. Remember to use the right output activation function ! "
   ]
  },
  {
   "cell_type": "code",
   "execution_count": 0,
   "metadata": {
    "colab": {
     "base_uri": "https://localhost:8080/",
     "height": 541
    },
    "colab_type": "code",
    "id": "Pnd3q1V3nk8v",
    "outputId": "9be2afd4-3529-4106-f1a4-9fa6e30b92ce"
   },
   "outputs": [
    {
     "name": "stdout",
     "output_type": "stream",
     "text": [
      "WARNING:tensorflow:From /usr/local/lib/python3.6/dist-packages/keras/backend/tensorflow_backend.py:66: The name tf.get_default_graph is deprecated. Please use tf.compat.v1.get_default_graph instead.\n",
      "\n",
      "WARNING:tensorflow:From /usr/local/lib/python3.6/dist-packages/keras/backend/tensorflow_backend.py:541: The name tf.placeholder is deprecated. Please use tf.compat.v1.placeholder instead.\n",
      "\n",
      "WARNING:tensorflow:From /usr/local/lib/python3.6/dist-packages/keras/backend/tensorflow_backend.py:4432: The name tf.random_uniform is deprecated. Please use tf.random.uniform instead.\n",
      "\n",
      "WARNING:tensorflow:From /usr/local/lib/python3.6/dist-packages/keras/optimizers.py:793: The name tf.train.Optimizer is deprecated. Please use tf.compat.v1.train.Optimizer instead.\n",
      "\n",
      "WARNING:tensorflow:From /usr/local/lib/python3.6/dist-packages/keras/backend/tensorflow_backend.py:1033: The name tf.assign_add is deprecated. Please use tf.compat.v1.assign_add instead.\n",
      "\n",
      "WARNING:tensorflow:From /usr/local/lib/python3.6/dist-packages/keras/backend/tensorflow_backend.py:1020: The name tf.assign is deprecated. Please use tf.compat.v1.assign instead.\n",
      "\n",
      "WARNING:tensorflow:From /usr/local/lib/python3.6/dist-packages/keras/backend/tensorflow_backend.py:3005: The name tf.Session is deprecated. Please use tf.compat.v1.Session instead.\n",
      "\n",
      "Epoch 1/1\n",
      "WARNING:tensorflow:From /usr/local/lib/python3.6/dist-packages/keras/backend/tensorflow_backend.py:190: The name tf.get_default_session is deprecated. Please use tf.compat.v1.get_default_session instead.\n",
      "\n",
      "WARNING:tensorflow:From /usr/local/lib/python3.6/dist-packages/keras/backend/tensorflow_backend.py:197: The name tf.ConfigProto is deprecated. Please use tf.compat.v1.ConfigProto instead.\n",
      "\n",
      "WARNING:tensorflow:From /usr/local/lib/python3.6/dist-packages/keras/backend/tensorflow_backend.py:207: The name tf.global_variables is deprecated. Please use tf.compat.v1.global_variables instead.\n",
      "\n",
      "WARNING:tensorflow:From /usr/local/lib/python3.6/dist-packages/keras/backend/tensorflow_backend.py:216: The name tf.is_variable_initialized is deprecated. Please use tf.compat.v1.is_variable_initialized instead.\n",
      "\n",
      "WARNING:tensorflow:From /usr/local/lib/python3.6/dist-packages/keras/backend/tensorflow_backend.py:223: The name tf.variables_initializer is deprecated. Please use tf.compat.v1.variables_initializer instead.\n",
      "\n",
      "60000/60000 [==============================] - 14s 239us/step - loss: 0.0170 - acc: 0.8876\n",
      "60000/60000 [==============================] - 3s 43us/step\n",
      "10000/10000 [==============================] - 0s 45us/step\n",
      "Training accuracy : 0.922600 Validation score : 0.808200\n"
     ]
    }
   ],
   "source": [
    "# The Sequential module is a container for more complex NN elements and\n",
    "# defines a loop-less NN architecture\n",
    "from keras.models import Sequential\n",
    "from keras.layers import Dense, Activation, Flatten\n",
    "\n",
    "# START CODE HERE\n",
    "############## CLASSIFIER OF THE FIRST EXERCISE ##############\n",
    "model_ex1 = Sequential()\n",
    "model_ex1.add(Dense(10,input_dim = 784,activation ='softmax'))\n",
    "model_ex1.compile(loss = 'mean_squared_error', optimizer = 'adam', metrics = ['accuracy']) \n",
    "model_ex1.fit(X_train_col, y_train_OH)\n",
    "acc = model_ex1.evaluate(X_train_col,y_train_OH)\n",
    "val_acc = model_ex1.evaluate(X_test_col,y_test_OH)\n",
    "print('Training accuracy : %f Validation score : %f' %(acc[1],val_acc[1]))\n",
    "# END CODE HERE"
   ]
  },
  {
   "cell_type": "code",
   "execution_count": 0,
   "metadata": {
    "colab": {},
    "colab_type": "code",
    "id": "kvB3VPGVlH3-"
   },
   "outputs": [],
   "source": [
    "############## FULLY CONNECTED NETWORK ##############  \n",
    "model = Sequential()\n",
    "model.add(Dense(300,input_dim = 784,activation ='sigmoid'))\n",
    "model.add(Dense(10,input_dim = 784,activation ='softmax')) #softmax préférée à sigmoid pour une classification binaire (donne des probas d'appartenance aux classes)"
   ]
  },
  {
   "cell_type": "markdown",
   "metadata": {
    "colab_type": "text",
    "id": "7g2PNEiwWBLw"
   },
   "source": [
    "Instantiate a SGD optimizer with a tentative learning rate of $\\\\eta = 10^{-2}$ and, using the appropriate loss function (which is called, in keras, ```'categorical_crossentropy'```) and compile the model."
   ]
  },
  {
   "cell_type": "code",
   "execution_count": 0,
   "metadata": {
    "colab": {
     "base_uri": "https://localhost:8080/",
     "height": 280
    },
    "colab_type": "code",
    "id": "SijGZGKjV9J2",
    "outputId": "52fd9bad-b9ef-4813-f0f7-c1cdd5f45703"
   },
   "outputs": [
    {
     "name": "stdout",
     "output_type": "stream",
     "text": [
      "WARNING:tensorflow:From /usr/local/lib/python3.6/dist-packages/keras/backend/tensorflow_backend.py:3576: The name tf.log is deprecated. Please use tf.math.log instead.\n",
      "\n",
      "Model: \"sequential_3\"\n",
      "_________________________________________________________________\n",
      "Layer (type)                 Output Shape              Param #   \n",
      "=================================================================\n",
      "dense_4 (Dense)              (None, 300)               235500    \n",
      "_________________________________________________________________\n",
      "dense_5 (Dense)              (None, 10)                3010      \n",
      "=================================================================\n",
      "Total params: 238,510\n",
      "Trainable params: 238,510\n",
      "Non-trainable params: 0\n",
      "_________________________________________________________________\n"
     ]
    }
   ],
   "source": [
    "# The optimizers module provides a number of optimization algorithms for updating\n",
    "# a netwok parameters accoridng to the computed error gradints\n",
    "from keras import optimizers\n",
    "\n",
    "# START CODE HERE\n",
    "model.compile(loss = 'categorical_crossentropy', optimizer = 'sgd', metrics = ['accuracy']) \n",
    "# END CODE HERE\n",
    "# We can now have a look at the defined model topology\n",
    "model.summary()"
   ]
  },
  {
   "cell_type": "markdown",
   "metadata": {
    "colab_type": "text",
    "id": "u-WqMtSAWTRp"
   },
   "source": [
    "## Training the network\n",
    "\n",
    "Train the model for 10 epochs using the ```.fit()``` method, validating the model at each epoch and keeping track of the training history for later plotting. Make sure you enable ```.fit()``` verbose mode in order to visualize the training.\n",
    "\n",
    "In order to accelerate training, use the ```batch_size``` option of ```.fit()```, which will process a batch of examples at the same time, and make one update for all of them, averaged over the gradients for each training example of the batch. You can begin with a small size, and experiment with a larger size later."
   ]
  },
  {
   "cell_type": "code",
   "execution_count": 0,
   "metadata": {
    "colab": {
     "base_uri": "https://localhost:8080/",
     "height": 382
    },
    "colab_type": "code",
    "id": "gTHrbb7uFYWz",
    "outputId": "f3bc1514-b783-4b33-c1e7-52674bab73ae"
   },
   "outputs": [
    {
     "name": "stdout",
     "output_type": "stream",
     "text": [
      "Train on 60000 samples, validate on 10000 samples\n",
      "Epoch 1/10\n",
      "60000/60000 [==============================] - 5s 88us/step - loss: 0.9552 - acc: 0.7738 - val_loss: 0.9613 - val_acc: 0.6710\n",
      "Epoch 2/10\n",
      "60000/60000 [==============================] - 5s 79us/step - loss: 0.4066 - acc: 0.8923 - val_loss: 0.9498 - val_acc: 0.6912\n",
      "Epoch 3/10\n",
      "60000/60000 [==============================] - 5s 80us/step - loss: 0.3387 - acc: 0.9060 - val_loss: 0.8638 - val_acc: 0.7275\n",
      "Epoch 4/10\n",
      "60000/60000 [==============================] - 5s 80us/step - loss: 0.3078 - acc: 0.9131 - val_loss: 0.8100 - val_acc: 0.7518\n",
      "Epoch 5/10\n",
      "60000/60000 [==============================] - 5s 80us/step - loss: 0.2887 - acc: 0.9182 - val_loss: 0.7562 - val_acc: 0.7751\n",
      "Epoch 6/10\n",
      "60000/60000 [==============================] - 5s 78us/step - loss: 0.2747 - acc: 0.9215 - val_loss: 0.7499 - val_acc: 0.7822\n",
      "Epoch 7/10\n",
      "60000/60000 [==============================] - 5s 78us/step - loss: 0.2639 - acc: 0.9243 - val_loss: 0.7108 - val_acc: 0.7965\n",
      "Epoch 8/10\n",
      "60000/60000 [==============================] - 5s 79us/step - loss: 0.2550 - acc: 0.9271 - val_loss: 0.7054 - val_acc: 0.7989\n",
      "Epoch 9/10\n",
      "60000/60000 [==============================] - 5s 81us/step - loss: 0.2472 - acc: 0.9291 - val_loss: 0.6666 - val_acc: 0.8131\n",
      "Epoch 10/10\n",
      "60000/60000 [==============================] - 5s 80us/step - loss: 0.2399 - acc: 0.9313 - val_loss: 0.6532 - val_acc: 0.8167\n"
     ]
    }
   ],
   "source": [
    "# This is where the actual training-testing happens\n",
    "# Number of epochs we want to train\n",
    "epochs = 10\n",
    "batch_size = None\n",
    "# START CODE HERE\n",
    "history = model.fit(X_train_col, y_train_OH, epochs = epochs, batch_size = batch_size, validation_data = (X_test_col,y_test_OH))\n",
    "# END CODE HERE"
   ]
  },
  {
   "cell_type": "markdown",
   "metadata": {
    "colab_type": "text",
    "id": "ODUc5Bq_dMEq"
   },
   "source": [
    "## Visualizing the network performance\n",
    "\n",
    "Visualize the training history using the ```pyplot``` package:\n",
    "- In one graph, plot the train and vaidation loss functions,\n",
    "- In another graph, the train and validation accuracy.\n",
    "By comparing the training the testing curves, what can we conclude about the quality of the training ?"
   ]
  },
  {
   "cell_type": "code",
   "execution_count": 0,
   "metadata": {
    "colab": {
     "base_uri": "https://localhost:8080/",
     "height": 373
    },
    "colab_type": "code",
    "id": "QdJrRbyariEw",
    "outputId": "31f5c009-916b-4bb0-f9f6-4cfb99da32e5"
   },
   "outputs": [
    {
     "data": {
      "image/png": "[encoded data removed]",
      "text/plain": [
       "<Figure size 936x360 with 2 Axes>"
      ]
     },
     "metadata": {
      "tags": []
     },
     "output_type": "display_data"
    }
   ],
   "source": [
    "# We now want to plot the train and validation loss functions and accuracy curves\n",
    "\n",
    "# summarize history for loss\n",
    "# START CODE HERE\n",
    "fig, ax = plt.subplots(1,2, figsize = (13,5))\n",
    "fig.suptitle('Loss functions and accuracy curves',size = 16, weight = 'semibold')\n",
    "ax[0].plot(range(1,epochs+1),history.history['loss'], marker = 'o', color = 'orange', label = 'loss')\n",
    "ax[0].plot(range(1,epochs+1),history.history['val_loss'], marker = 'o', color = 'red', label = 'val_loss')\n",
    "ax[0].set_ylabel('score',size = 'large')\n",
    "ax[0].set_xlabel('epochs', size = 'large')\n",
    "ax[0].legend(loc = 'upper right',shadow = True)\n",
    "# END CODE HERE\n",
    "\n",
    "# summarize history for accuracy\n",
    "# START CODE HERE\n",
    "ax[1].plot(range(1,epochs+1),history.history['acc'], marker = 'o', color = 'blue', label = 'acc')\n",
    "ax[1].plot(range(1,epochs+1),history.history['val_acc'], marker = 'o', color = 'green', label = 'val_acc')\n",
    "ax[1].set_xlabel('epochs',size = 'large')\n",
    "ax[1].legend(loc = 'lower right', shadow = True)\n",
    "# END CODE HERE\n",
    "plt.show()\n"
   ]
  },
  {
   "cell_type": "markdown",
   "metadata": {
    "colab_type": "text",
    "id": "1dBZGbaj7D6B"
   },
   "source": [
    "**Answer** : The training score is very good (above 0.96), which shows that the model fits very well to the data. We could be worried about overfitting, but as the validation score is good (around 0.8) the model generalizes well."
   ]
  },
  {
   "cell_type": "markdown",
   "metadata": {
    "colab_type": "text",
    "id": "Nr4TdWoEoDzi"
   },
   "source": [
    "## Experiments\n",
    "\n",
    "Note down the performance of the larger network in terms of training and validation accuracy as a reference (save the loss/accuracy graphs of the network).\n",
    "\n",
    "Then, experiment as follow and compare performance with the reference scenario:\n",
    "\n",
    "*  Experiment increasing the size of the batch and compare the performance with reference.\n",
    "*  Experiment replacing the sigmoid activations with Relus and note what happens.\n",
    "*  Experiment with a larger architecture, for example: \n",
    "$$ (784) \\rightarrow (300) \\rightarrow (128) \\rightarrow (84) \\rightarrow (10) $$"
   ]
  },
  {
   "cell_type": "code",
   "execution_count": 0,
   "metadata": {
    "colab": {},
    "colab_type": "code",
    "id": "T2l-X5I4HyVD"
   },
   "outputs": [],
   "source": [
    "############## BATCH SIZE COMPARISON ##############\n",
    "from time import time\n",
    "def batch_influence(batch_size):\n",
    "  t_1 = time()\n",
    "  history = model.fit(X_train_col, y_train_OH, epochs = epochs, batch_size = batch_size, validation_data = (X_test_col,y_test_OH))\n",
    "  print('Computation time : %f' %(time()-t_1))\n",
    "  #Plotting results\n",
    "  fig, ax = plt.subplots(1,2, figsize = (13,5))\n",
    "  fig.suptitle('Loss functions and accuracy curves batch_size : ' + str(batch_size),size = 16, weight = 'semibold')\n",
    "  ax[0].plot(range(1,epochs+1),history.history['loss'], marker = 'o', color = 'orange', label = 'loss')\n",
    "  ax[0].plot(range(1,epochs+1),history.history['val_loss'], marker = 'o', color = 'red', label = 'val_loss')\n",
    "  ax[0].set_ylabel('score',size = 'large')\n",
    "  ax[0].set_xlabel('epochs', size = 'large')\n",
    "  ax[0].legend(loc = 'center',shadow = True)\n",
    "  ax[1].plot(range(1,epochs+1),history.history['acc'], marker = 'o', color = 'blue', label = 'acc')\n",
    "  ax[1].plot(range(1,epochs+1),history.history['val_acc'], marker = 'o', color = 'green', label = 'val_acc')\n",
    "  ax[1].set_xlabel('epochs',size = 'large')\n",
    "  ax[1].legend(loc = 'center', shadow = True)\n",
    "  plt.show()\n",
    "  return \n"
   ]
  },
  {
   "cell_type": "markdown",
   "metadata": {
    "colab_type": "text",
    "id": "xHOzU8rVTcdH"
   },
   "source": [
    "Batch sizes determine with what precision we compute the gradient. At each step we compute an estimation of the gradient based on our data and our labels. The larger the batch size the better the approximation of the gradient, but it requires a lot of computation with less than linear returns. "
   ]
  },
  {
   "cell_type": "code",
   "execution_count": 0,
   "metadata": {
    "colab": {
     "base_uri": "https://localhost:8080/",
     "height": 755
    },
    "colab_type": "code",
    "id": "Ty1HomlKM4-T",
    "outputId": "37ce48ee-6f14-42c4-e229-c81fd8d2cf5e"
   },
   "outputs": [
    {
     "name": "stdout",
     "output_type": "stream",
     "text": [
      "Train on 60000 samples, validate on 10000 samples\n",
      "Epoch 1/10\n",
      "\r",
      "60000/60000 [==============================] - 0s 3us/step - loss: 0.1297 - acc: 0.9646 - val_loss: 0.4165 - val_acc: 0.8837\n",
      "Epoch 2/10\n",
      "60000/60000 [==============================] - 0s 3us/step - loss: 0.1296 - acc: 0.9646 - val_loss: 0.4162 - val_acc: 0.8837\n",
      "Epoch 3/10\n",
      "60000/60000 [==============================] - 0s 3us/step - loss: 0.1296 - acc: 0.9646 - val_loss: 0.4167 - val_acc: 0.8837\n",
      "Epoch 4/10\n",
      "60000/60000 [==============================] - 0s 2us/step - loss: 0.1296 - acc: 0.9646 - val_loss: 0.4163 - val_acc: 0.8837\n",
      "Epoch 5/10\n",
      "60000/60000 [==============================] - 0s 3us/step - loss: 0.1296 - acc: 0.9646 - val_loss: 0.4163 - val_acc: 0.8837\n",
      "Epoch 6/10\n",
      "60000/60000 [==============================] - 0s 3us/step - loss: 0.1297 - acc: 0.9646 - val_loss: 0.4163 - val_acc: 0.8837\n",
      "Epoch 7/10\n",
      "60000/60000 [==============================] - 0s 3us/step - loss: 0.1296 - acc: 0.9646 - val_loss: 0.4160 - val_acc: 0.8837\n",
      "Epoch 8/10\n",
      "60000/60000 [==============================] - 0s 3us/step - loss: 0.1297 - acc: 0.9646 - val_loss: 0.4166 - val_acc: 0.8838\n",
      "Epoch 9/10\n",
      "60000/60000 [==============================] - 0s 3us/step - loss: 0.1297 - acc: 0.9646 - val_loss: 0.4161 - val_acc: 0.8838\n",
      "Epoch 10/10\n",
      "60000/60000 [==============================] - 0s 2us/step - loss: 0.1296 - acc: 0.9646 - val_loss: 0.4161 - val_acc: 0.8838\n",
      "Computation time : 1.576607\n"
     ]
    },
    {
     "data": {
      "image/png": "[encoded data removed]",
      "text/plain": [
       "<Figure size 936x360 with 2 Axes>"
      ]
     },
     "metadata": {
      "tags": []
     },
     "output_type": "display_data"
    }
   ],
   "source": [
    "#On all the training set : Determininstic gradient descent\n",
    "batch_influence(60000)"
   ]
  },
  {
   "cell_type": "markdown",
   "metadata": {
    "colab_type": "text",
    "id": "cynPH0fmNPbj"
   },
   "source": [
    "On large batch, epochs seem to have no influence. It could be understood in this way : because the size of the batch is large, there is not so much data for the training and the model fits quickly."
   ]
  },
  {
   "cell_type": "code",
   "execution_count": 0,
   "metadata": {
    "colab": {
     "base_uri": "https://localhost:8080/",
     "height": 755
    },
    "colab_type": "code",
    "id": "8a8AAZDMLrJ2",
    "outputId": "3aec43a5-860f-4f11-e81f-a0cc4b1138f7"
   },
   "outputs": [
    {
     "name": "stdout",
     "output_type": "stream",
     "text": [
      "Train on 60000 samples, validate on 10000 samples\n",
      "Epoch 1/10\n",
      "60000/60000 [==============================] - 5s 80us/step - loss: 0.1302 - acc: 0.9643 - val_loss: 0.4147 - val_acc: 0.8827\n",
      "Epoch 2/10\n",
      "60000/60000 [==============================] - 5s 80us/step - loss: 0.1280 - acc: 0.9650 - val_loss: 0.4104 - val_acc: 0.8855\n",
      "Epoch 3/10\n",
      "60000/60000 [==============================] - 5s 80us/step - loss: 0.1256 - acc: 0.9658 - val_loss: 0.3995 - val_acc: 0.8883\n",
      "Epoch 4/10\n",
      "60000/60000 [==============================] - 5s 80us/step - loss: 0.1234 - acc: 0.9662 - val_loss: 0.4081 - val_acc: 0.8858\n",
      "Epoch 5/10\n",
      "60000/60000 [==============================] - 5s 81us/step - loss: 0.1212 - acc: 0.9670 - val_loss: 0.3998 - val_acc: 0.8898\n",
      "Epoch 6/10\n",
      "60000/60000 [==============================] - 5s 81us/step - loss: 0.1190 - acc: 0.9675 - val_loss: 0.3933 - val_acc: 0.8902\n",
      "Epoch 7/10\n",
      "60000/60000 [==============================] - 5s 81us/step - loss: 0.1170 - acc: 0.9682 - val_loss: 0.3858 - val_acc: 0.8919\n",
      "Epoch 8/10\n",
      "60000/60000 [==============================] - 5s 80us/step - loss: 0.1148 - acc: 0.9687 - val_loss: 0.3748 - val_acc: 0.8959\n",
      "Epoch 9/10\n",
      "60000/60000 [==============================] - 5s 81us/step - loss: 0.1129 - acc: 0.9695 - val_loss: 0.3806 - val_acc: 0.8931\n",
      "Epoch 10/10\n",
      "60000/60000 [==============================] - 5s 81us/step - loss: 0.1111 - acc: 0.9701 - val_loss: 0.3827 - val_acc: 0.8911\n",
      "Computation time : 48.327081\n"
     ]
    },
    {
     "data": {
      "image/png": "[encoded data removed]",
      "text/plain": [
       "<Figure size 936x360 with 2 Axes>"
      ]
     },
     "metadata": {
      "tags": []
     },
     "output_type": "display_data"
    }
   ],
   "source": [
    "#Mini batch : the best trade-off between quickness and precision\n",
    "batch_influence(32)"
   ]
  },
  {
   "cell_type": "code",
   "execution_count": 0,
   "metadata": {
    "colab": {
     "base_uri": "https://localhost:8080/",
     "height": 755
    },
    "colab_type": "code",
    "id": "09grbuQvWYpz",
    "outputId": "bdacda72-a15a-4b41-a15e-1fd161d89eb4"
   },
   "outputs": [
    {
     "name": "stdout",
     "output_type": "stream",
     "text": [
      "Train on 60000 samples, validate on 10000 samples\n",
      "Epoch 1/10\n",
      "60000/60000 [==============================] - 148s 2ms/step - loss: 0.1337 - acc: 0.9607 - val_loss: 0.4475 - val_acc: 0.8772\n",
      "Epoch 2/10\n",
      "60000/60000 [==============================] - 147s 2ms/step - loss: 0.0900 - acc: 0.9731 - val_loss: 0.3367 - val_acc: 0.9068\n",
      "Epoch 3/10\n",
      "60000/60000 [==============================] - 148s 2ms/step - loss: 0.0619 - acc: 0.9815 - val_loss: 0.3211 - val_acc: 0.9105\n",
      "Epoch 4/10\n",
      "60000/60000 [==============================] - 147s 2ms/step - loss: 0.0416 - acc: 0.9891 - val_loss: 0.2643 - val_acc: 0.9256\n",
      "Epoch 5/10\n",
      "60000/60000 [==============================] - 150s 3ms/step - loss: 0.0290 - acc: 0.9933 - val_loss: 0.3214 - val_acc: 0.9127\n",
      "Epoch 6/10\n",
      "60000/60000 [==============================] - 149s 2ms/step - loss: 0.0211 - acc: 0.9960 - val_loss: 0.3223 - val_acc: 0.9160\n",
      "Epoch 7/10\n",
      "60000/60000 [==============================] - 147s 2ms/step - loss: 0.0156 - acc: 0.9978 - val_loss: 0.2914 - val_acc: 0.9243\n",
      "Epoch 8/10\n",
      "60000/60000 [==============================] - 148s 2ms/step - loss: 0.0125 - acc: 0.9987 - val_loss: 0.2852 - val_acc: 0.9264\n",
      "Epoch 9/10\n",
      "60000/60000 [==============================] - 148s 2ms/step - loss: 0.0101 - acc: 0.9991 - val_loss: 0.2964 - val_acc: 0.9256\n",
      "Epoch 10/10\n",
      "60000/60000 [==============================] - 148s 2ms/step - loss: 0.0083 - acc: 0.9995 - val_loss: 0.3121 - val_acc: 0.9223\n",
      "Computation time : 1479.575487\n"
     ]
    },
    {
     "data": {
      "image/png": "[encoded data removed]",
      "text/plain": [
       "<Figure size 936x360 with 2 Axes>"
      ]
     },
     "metadata": {
      "tags": []
     },
     "output_type": "display_data"
    }
   ],
   "source": [
    "#Stochastic gradient descent\n",
    "batch_influence(1)"
   ]
  },
  {
   "cell_type": "markdown",
   "metadata": {
    "colab_type": "text",
    "id": "wWlcEiT10Fou"
   },
   "source": [
    "Changing the batch size has a real impact on the both the training and validation score. The tinier the batch the better the score but at the cost of the computing time (nearly half an hour to have an increase of 0.03 of the validation score). 32 seems to be a good compromise"
   ]
  },
  {
   "cell_type": "code",
   "execution_count": 0,
   "metadata": {
    "colab": {
     "base_uri": "https://localhost:8080/",
     "height": 225
    },
    "colab_type": "code",
    "id": "ZwVR2no3zNAB",
    "outputId": "7f373a5c-1be7-4d36-ea37-ed1c564c19fb"
   },
   "outputs": [
    {
     "name": "stdout",
     "output_type": "stream",
     "text": [
      "Model: \"sequential_5\"\n",
      "_________________________________________________________________\n",
      "Layer (type)                 Output Shape              Param #   \n",
      "=================================================================\n",
      "dense_8 (Dense)              (None, 300)               235500    \n",
      "_________________________________________________________________\n",
      "dense_9 (Dense)              (None, 10)                3010      \n",
      "=================================================================\n",
      "Total params: 238,510\n",
      "Trainable params: 238,510\n",
      "Non-trainable params: 0\n",
      "_________________________________________________________________\n"
     ]
    }
   ],
   "source": [
    "######## CHANGING ACTIVATION FUNCTION ###########\n",
    "#### RELU ####\n",
    "model = Sequential()\n",
    "model.add(Dense(300,input_dim = 784,activation ='relu'))\n",
    "model.add(Dense(10,input_dim = 784,activation ='softmax')) \n",
    "model.compile(loss = 'categorical_crossentropy', optimizer = 'sgd', metrics = ['accuracy']) \n",
    "model.summary()"
   ]
  },
  {
   "cell_type": "code",
   "execution_count": 0,
   "metadata": {
    "colab": {
     "base_uri": "https://localhost:8080/",
     "height": 755
    },
    "colab_type": "code",
    "id": "UWbD2jEVztDy",
    "outputId": "76089726-f628-47ea-a1b7-c15e34d6c9f9"
   },
   "outputs": [
    {
     "name": "stdout",
     "output_type": "stream",
     "text": [
      "Train on 60000 samples, validate on 10000 samples\n",
      "Epoch 1/10\n",
      "60000/60000 [==============================] - 7s 120us/step - loss: 0.0594 - acc: 0.9852 - val_loss: 1.1474 - val_acc: 0.9255\n",
      "Epoch 2/10\n",
      "60000/60000 [==============================] - 7s 119us/step - loss: 0.0549 - acc: 0.9869 - val_loss: 1.1540 - val_acc: 0.9252\n",
      "Epoch 3/10\n",
      "60000/60000 [==============================] - 7s 117us/step - loss: 0.0505 - acc: 0.9879 - val_loss: 1.1069 - val_acc: 0.9291\n",
      "Epoch 4/10\n",
      "60000/60000 [==============================] - 7s 118us/step - loss: 0.0467 - acc: 0.9889 - val_loss: 1.1309 - val_acc: 0.9268\n",
      "Epoch 5/10\n",
      "60000/60000 [==============================] - 7s 118us/step - loss: 0.0434 - acc: 0.9900 - val_loss: 1.0649 - val_acc: 0.9315\n",
      "Epoch 6/10\n",
      "60000/60000 [==============================] - 7s 118us/step - loss: 0.0404 - acc: 0.9911 - val_loss: 1.0849 - val_acc: 0.9298\n",
      "Epoch 7/10\n",
      "60000/60000 [==============================] - 7s 118us/step - loss: 0.0378 - acc: 0.9918 - val_loss: 1.1456 - val_acc: 0.9268\n",
      "Epoch 8/10\n",
      "60000/60000 [==============================] - 7s 119us/step - loss: 0.0353 - acc: 0.9925 - val_loss: 1.0911 - val_acc: 0.9290\n",
      "Epoch 9/10\n",
      "60000/60000 [==============================] - 7s 117us/step - loss: 0.0332 - acc: 0.9934 - val_loss: 1.0378 - val_acc: 0.9329\n",
      "Epoch 10/10\n",
      "60000/60000 [==============================] - 7s 117us/step - loss: 0.0312 - acc: 0.9940 - val_loss: 0.9665 - val_acc: 0.9374\n",
      "Computation time : 70.951908\n"
     ]
    },
    {
     "data": {
      "image/png": "[encoded data removed]",
      "text/plain": [
       "<Figure size 936x360 with 2 Axes>"
      ]
     },
     "metadata": {
      "tags": []
     },
     "output_type": "display_data"
    }
   ],
   "source": [
    "epochs = 10\n",
    "batch_influence(32)"
   ]
  },
  {
   "cell_type": "markdown",
   "metadata": {
    "colab_type": "text",
    "id": "JNwLDXFd2IFX"
   },
   "source": [
    "Changing the activation function in the hidden layer has a noticeable impact on both the losses and the scores. Quite frankly I can't explain why it happened that way. It seems like there is some magic in the hidden layer. An explanation might be that sigmoid tends to kill gradients in the areas close to zero and one and thus alter backpropagation."
   ]
  },
  {
   "cell_type": "code",
   "execution_count": 0,
   "metadata": {
    "colab": {
     "base_uri": "https://localhost:8080/",
     "height": 755
    },
    "colab_type": "code",
    "id": "qPFjVBX92qMB",
    "outputId": "e657d6cc-a2dd-45fa-a16c-cbd59a6c55e5"
   },
   "outputs": [
    {
     "name": "stdout",
     "output_type": "stream",
     "text": [
      "Train on 60000 samples, validate on 10000 samples\n",
      "Epoch 1/10\n",
      "60000/60000 [==============================] - 7s 123us/step - loss: 0.4217 - acc: 0.8778 - val_loss: 0.8791 - val_acc: 0.7339\n",
      "Epoch 2/10\n",
      "60000/60000 [==============================] - 7s 118us/step - loss: 0.2674 - acc: 0.9221 - val_loss: 0.7352 - val_acc: 0.7848\n",
      "Epoch 3/10\n",
      "60000/60000 [==============================] - 7s 119us/step - loss: 0.2303 - acc: 0.9343 - val_loss: 0.7481 - val_acc: 0.7788\n",
      "Epoch 4/10\n",
      "60000/60000 [==============================] - 7s 120us/step - loss: 0.2046 - acc: 0.9421 - val_loss: 0.5647 - val_acc: 0.8379\n",
      "Epoch 5/10\n",
      "60000/60000 [==============================] - 7s 120us/step - loss: 0.1841 - acc: 0.9495 - val_loss: 0.5472 - val_acc: 0.8418\n",
      "Epoch 6/10\n",
      "60000/60000 [==============================] - 7s 124us/step - loss: 0.1668 - acc: 0.9535 - val_loss: 0.5137 - val_acc: 0.8542\n",
      "Epoch 7/10\n",
      "60000/60000 [==============================] - 7s 121us/step - loss: 0.1519 - acc: 0.9585 - val_loss: 0.4919 - val_acc: 0.8564\n",
      "Epoch 8/10\n",
      "60000/60000 [==============================] - 7s 118us/step - loss: 0.1389 - acc: 0.9627 - val_loss: 0.4511 - val_acc: 0.8704\n",
      "Epoch 9/10\n",
      "60000/60000 [==============================] - 7s 121us/step - loss: 0.1275 - acc: 0.9660 - val_loss: 0.4388 - val_acc: 0.8712\n",
      "Epoch 10/10\n",
      "60000/60000 [==============================] - 7s 122us/step - loss: 0.1177 - acc: 0.9686 - val_loss: 0.4188 - val_acc: 0.8807\n",
      "Computation time : 72.532573\n"
     ]
    },
    {
     "data": {
      "image/png": "[encoded data removed]",
      "text/plain": [
       "<Figure size 936x360 with 2 Axes>"
      ]
     },
     "metadata": {
      "tags": []
     },
     "output_type": "display_data"
    }
   ],
   "source": [
    "#### Tanh ####\n",
    "model = Sequential()\n",
    "model.add(Dense(300,input_dim = 784,activation ='tanh'))\n",
    "model.add(Dense(10,input_dim = 784,activation ='softmax'))\n",
    "model.compile(loss = 'categorical_crossentropy', optimizer = 'sgd', metrics = ['accuracy']) \n",
    "epochs = 10\n",
    "batch_influence(32)"
   ]
  },
  {
   "cell_type": "markdown",
   "metadata": {
    "colab_type": "text",
    "id": "VIOrSvbF3bQx"
   },
   "source": [
    "tanh is pretty lame however"
   ]
  },
  {
   "cell_type": "code",
   "execution_count": 0,
   "metadata": {
    "colab": {},
    "colab_type": "code",
    "id": "fFnDkyj45ciU"
   },
   "outputs": [],
   "source": [
    "######## ADDING DEPTH ########"
   ]
  },
  {
   "cell_type": "code",
   "execution_count": 0,
   "metadata": {
    "colab": {
     "base_uri": "https://localhost:8080/",
     "height": 1000
    },
    "colab_type": "code",
    "id": "w9PWR2nD5lqg",
    "outputId": "47012ed2-b06b-4566-f067-a0f524565799"
   },
   "outputs": [
    {
     "name": "stdout",
     "output_type": "stream",
     "text": [
      "Model: \"sequential_10\"\n",
      "_________________________________________________________________\n",
      "Layer (type)                 Output Shape              Param #   \n",
      "=================================================================\n",
      "dense_22 (Dense)             (None, 300)               235500    \n",
      "_________________________________________________________________\n",
      "dense_23 (Dense)             (None, 128)               38528     \n",
      "_________________________________________________________________\n",
      "dense_24 (Dense)             (None, 84)                10836     \n",
      "_________________________________________________________________\n",
      "dense_25 (Dense)             (None, 10)                850       \n",
      "=================================================================\n",
      "Total params: 285,714\n",
      "Trainable params: 285,714\n",
      "Non-trainable params: 0\n",
      "_________________________________________________________________\n",
      "Train on 60000 samples, validate on 10000 samples\n",
      "Epoch 1/10\n",
      "60000/60000 [==============================] - 8s 140us/step - loss: 0.4180 - acc: 0.8833 - val_loss: 2.8827 - val_acc: 0.8128\n",
      "Epoch 2/10\n",
      "60000/60000 [==============================] - 8s 135us/step - loss: 0.1745 - acc: 0.9493 - val_loss: 1.8807 - val_acc: 0.8775\n",
      "Epoch 3/10\n",
      "60000/60000 [==============================] - 8s 135us/step - loss: 0.1257 - acc: 0.9638 - val_loss: 1.3706 - val_acc: 0.9113\n",
      "Epoch 4/10\n",
      "60000/60000 [==============================] - 8s 133us/step - loss: 0.0971 - acc: 0.9723 - val_loss: 1.4472 - val_acc: 0.9057\n",
      "Epoch 5/10\n",
      "60000/60000 [==============================] - 8s 134us/step - loss: 0.0776 - acc: 0.9788 - val_loss: 1.5329 - val_acc: 0.9008\n",
      "Epoch 6/10\n",
      "60000/60000 [==============================] - 8s 131us/step - loss: 0.0630 - acc: 0.9831 - val_loss: 1.3945 - val_acc: 0.9094\n",
      "Epoch 7/10\n",
      "60000/60000 [==============================] - 8s 133us/step - loss: 0.0510 - acc: 0.9872 - val_loss: 1.4892 - val_acc: 0.9044\n",
      "Epoch 8/10\n",
      "60000/60000 [==============================] - 8s 136us/step - loss: 0.0423 - acc: 0.9899 - val_loss: 1.4952 - val_acc: 0.9044\n",
      "Epoch 9/10\n",
      "60000/60000 [==============================] - 8s 134us/step - loss: 0.0349 - acc: 0.9923 - val_loss: 1.1832 - val_acc: 0.9237\n",
      "Epoch 10/10\n",
      "60000/60000 [==============================] - 8s 134us/step - loss: 0.0297 - acc: 0.9941 - val_loss: 1.4300 - val_acc: 0.9088\n",
      "Computation time : 81.035879\n"
     ]
    },
    {
     "data": {
      "image/png": "[encoded data removed]",
      "text/plain": [
       "<Figure size 936x360 with 2 Axes>"
      ]
     },
     "metadata": {
      "tags": []
     },
     "output_type": "display_data"
    }
   ],
   "source": [
    "model = Sequential()\n",
    "model.add(Dense(300,input_dim = 784,activation ='relu'))\n",
    "model.add(Dense(128,activation ='relu'))\n",
    "model.add(Dense(84,activation ='relu'))\n",
    "model.add(Dense(10,activation ='softmax'))\n",
    "model.compile(loss = 'categorical_crossentropy', optimizer = 'sgd', metrics = ['accuracy']) \n",
    "model.summary()\n",
    "epochs = 10\n",
    "batch_influence(32)"
   ]
  },
  {
   "cell_type": "markdown",
   "metadata": {
    "colab_type": "text",
    "id": "V-f6DNQn7LxJ"
   },
   "source": [
    "If we compare with then neural network with one hidden layer and the same activation functions and batch size, the results are slightly worse on the validation score. It might be that the model is slightly more fit to the training data because of all the layers we added."
   ]
  }
 ],
 "metadata": {
  "accelerator": "GPU",
  "colab": {
   "collapsed_sections": [],
   "name": "Ex1.ipynb",
   "provenance": []
  },
  "kernelspec": {
   "display_name": "Python 3",
   "language": "python",
   "name": "python3"
  },
  "language_info": {
   "codemirror_mode": {
    "name": "ipython",
    "version": 3
   },
   "file_extension": ".py",
   "mimetype": "text/x-python",
   "name": "python",
   "nbconvert_exporter": "python",
   "pygments_lexer": "ipython3",
   "version": "3.6.9"
  }
 },
 "nbformat": 4,
 "nbformat_minor": 0
}
