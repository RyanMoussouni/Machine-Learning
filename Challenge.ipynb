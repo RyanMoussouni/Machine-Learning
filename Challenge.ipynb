{
  "nbformat": 4,
  "nbformat_minor": 0,
  "metadata": {
    "kernelspec": {
      "name": "python3",
      "display_name": "Python 3"
    },
    "language_info": {
      "codemirror_mode": {
        "name": "ipython",
        "version": 3
      },
      "file_extension": ".py",
      "mimetype": "text/x-python",
      "name": "python",
      "nbconvert_exporter": "python",
      "pygments_lexer": "ipython3",
      "version": "3.6.9"
    },
    "colab": {
      "name": "Challenge.ipynb",
      "provenance": [],
      "collapsed_sections": [
        "Is-wUeQzAStf",
        "ItVBwtyt7YvM",
        "KgU_i2cAn7_0",
        "Sgy50fvLn_Hd",
        "as5blWB7t-Xv",
        "jcEFU4zDfL7P",
        "3OBGeuGiJAGe"
      ]
    },
    "accelerator": "GPU"
  },
  "cells": [
    {
      "cell_type": "markdown",
      "metadata": {
        "id": "txjj2oZ_WT6W",
        "colab_type": "text"
      },
      "source": [
        "# Classification challenge - Ryan Moussouni"
      ]
    },
    {
      "cell_type": "markdown",
      "metadata": {
        "id": "iZBGwFmYUNq_",
        "colab_type": "text"
      },
      "source": [
        "Problem is introduced here :\n",
        "https://ibb.co/n7f1YrS"
      ]
    },
    {
      "cell_type": "markdown",
      "metadata": {
        "id": "Is-wUeQzAStf",
        "colab_type": "text"
      },
      "source": [
        "## Packages and Data Loading"
      ]
    },
    {
      "cell_type": "code",
      "metadata": {
        "id": "1cVf1nCy7YuF",
        "colab_type": "code",
        "outputId": "832f3a6a-2e60-4843-c5d5-f756c14a3621",
        "colab": {
          "base_uri": "https://localhost:8080/",
          "height": 34
        }
      },
      "source": [
        "#Standard packages\n",
        "import numpy as np\n",
        "import matplotlib.pyplot as plt\n",
        "from time import time\n",
        "#Debugguer \n",
        "from pdb import set_trace\n",
        "#Sklearn packages\n",
        "from sklearn.preprocessing import StandardScaler,MinMaxScaler\n",
        "from sklearn.model_selection import train_test_split,GridSearchCV,cross_val_score,cross_val_predict,StratifiedKFold\n",
        "from sklearn.decomposition import PCA,KernelPCA\n",
        "from sklearn.naive_bayes import GaussianNB\n",
        "from sklearn import svm\n",
        "from sklearn.tree import DecisionTreeClassifier\n",
        "from sklearn.ensemble import GradientBoostingClassifier\n",
        "from sklearn.ensemble import RandomForestClassifier\n",
        "from sklearn.neighbors import KNeighborsClassifier\n",
        "from sklearn.metrics import confusion_matrix\n",
        "from sklearn.utils import shuffle\n",
        "from sklearn import metrics\n",
        "from sklearn.discriminant_analysis import LinearDiscriminantAnalysis\n",
        "#xgboost\n",
        "import xgboost as xgb\n",
        "from xgboost.sklearn import XGBClassifier\n",
        "#Data Processing\n",
        "import pandas as pd\n",
        "import seaborn as sns\n",
        "from scipy.special import softmax\n",
        "#Resampling\n",
        "from imblearn.under_sampling import RandomUnderSampler,TomekLinks,EditedNearestNeighbours\n",
        "from imblearn.over_sampling import SMOTE\n",
        "from imblearn.combine import SMOTEENN\n",
        "#Deep Learning\n",
        "import tensorflow as tf\n",
        "from tensorflow.keras.models import Sequential\n",
        "from tensorflow.keras.layers import Dense, Activation, Flatten\n",
        "from tensorflow.keras.optimizers import SGD\n",
        "print(tf.__version__)"
      ],
      "execution_count": 0,
      "outputs": [
        {
          "output_type": "stream",
          "text": [
            "2.2.0-rc3\n"
          ],
          "name": "stdout"
        }
      ]
    },
    {
      "cell_type": "code",
      "metadata": {
        "id": "bgNXnqlB7k-6",
        "colab_type": "code",
        "colab": {}
      },
      "source": [
        "#### Uploading data\n",
        "# Import PyDrive and associated libraries.\n",
        "# This only needs to be done once per notebook.\n",
        "from pydrive.auth import GoogleAuth\n",
        "from pydrive.drive import GoogleDrive\n",
        "from google.colab import auth\n",
        "from oauth2client.client import GoogleCredentials\n",
        "\n",
        "# Authenticate and create the PyDrive client.\n",
        "# This only needs to be done once per notebook.\n",
        "auth.authenticate_user()\n",
        "gauth = GoogleAuth()\n",
        "gauth.credentials = GoogleCredentials.get_application_default()\n",
        "drive = GoogleDrive(gauth)\n",
        "\n",
        "# Download a file based on its file ID.\n",
        "# A file ID looks like: laggVyWshwcyP6kEI-y_W3P8D26sz\n",
        "file_id = '1wMJSXrkxDgL1gqq8cf9CCdITihJzXYAX'\n",
        "xtrain_file = drive.CreateFile({'id': file_id})\n",
        "file_id = '14LYANr0EYN3lysvUDvOZgf0qsyMGkyrb'\n",
        "ytrain_file = drive.CreateFile({'id': file_id})\n",
        "file_id = '1FsKEdcPhQAQxzn7kACl3iS8u-phDCI3L'\n",
        "xtest_file = drive.CreateFile({'id': file_id})"
      ],
      "execution_count": 0,
      "outputs": []
    },
    {
      "cell_type": "code",
      "metadata": {
        "id": "dDVPLb5A98bO",
        "colab_type": "code",
        "colab": {}
      },
      "source": [
        "#### Getting xtrain using numpy\n",
        "xtrain_file.GetContentFile('xtrain_challenge.csv')  \n",
        "xtrain = np.loadtxt('xtrain_challenge.csv', delimiter=',', skiprows = 1)"
      ],
      "execution_count": 0,
      "outputs": []
    },
    {
      "cell_type": "code",
      "metadata": {
        "id": "3Q1JkGssF5qd",
        "colab_type": "code",
        "colab": {}
      },
      "source": [
        "#### Getting xtrain using pandas\n",
        "xtrain_file.GetContentFile('xtrain_challenge.csv')  \n",
        "x_train = pd.read_csv('xtrain_challenge.csv')"
      ],
      "execution_count": 0,
      "outputs": []
    },
    {
      "cell_type": "code",
      "metadata": {
        "id": "IGna6dQn7Yuw",
        "colab_type": "code",
        "colab": {}
      },
      "source": [
        "#### Getting ytrain\n",
        "ytrain_file.GetContentFile('ytrain_challenge.csv')  \n",
        "ytrain = np.loadtxt('ytrain_challenge.csv', delimiter=',', skiprows = 1)"
      ],
      "execution_count": 0,
      "outputs": []
    },
    {
      "cell_type": "code",
      "metadata": {
        "id": "rGVBpLZjGGRh",
        "colab_type": "code",
        "colab": {}
      },
      "source": [
        "#### Getting test file\n",
        "xtest_file.GetContentFile('xtest_challenge.csv')  \n",
        "x_test = pd.read_csv('xtest_challenge.csv')"
      ],
      "execution_count": 0,
      "outputs": []
    },
    {
      "cell_type": "code",
      "metadata": {
        "id": "GMAOfM9R7YvD",
        "colab_type": "code",
        "outputId": "bc64a06e-e9f2-4626-80dd-8528b7d87d0d",
        "colab": {
          "base_uri": "https://localhost:8080/",
          "height": 52
        }
      },
      "source": [
        "#Checking class balance\n",
        "print(\"Number of faces recognized : %i Number of faces not recognized %i\" %(np.sum(ytrain), np.sum(1-ytrain)))\n",
        "print(\"Data is heavily imbalanced\")"
      ],
      "execution_count": 0,
      "outputs": [
        {
          "output_type": "stream",
          "text": [
            "Number of faces recognized : 39593 Number of faces not recognized 1028911\n",
            "Data is heavily imbalanced\n"
          ],
          "name": "stdout"
        }
      ]
    },
    {
      "cell_type": "markdown",
      "metadata": {
        "id": "ItVBwtyt7YvM",
        "colab_type": "text"
      },
      "source": [
        "## Data Visualization"
      ]
    },
    {
      "cell_type": "markdown",
      "metadata": {
        "id": "KgU_i2cAn7_0",
        "colab_type": "text"
      },
      "source": [
        "### First features"
      ]
    },
    {
      "cell_type": "code",
      "metadata": {
        "id": "olNDXhAR7YvO",
        "colab_type": "code",
        "colab": {}
      },
      "source": [
        "#Let's see what it looks like\n",
        "def feature_engineering(resampling = False, scaling = False):\n",
        "    '''\n",
        "    Desc :\n",
        "    feat_a and feat_b are the features of the 2 pictures\n",
        "    \n",
        "    Inputs :\n",
        "    resampling consists in undersampling the majority class using RUS\n",
        "    scaling checks the effects of scaling on data repartition\n",
        "    '''\n",
        "    if resampling:\n",
        "      ros = RandomUnderSampler()\n",
        "      xtemp, ytemp = ros.fit_resample(xtrain,ytrain)\n",
        "      feat_a = xtemp[:,:13]\n",
        "      feat_b = xtemp[:,13:26]\n",
        "    if scaling:\n",
        "      scaler = StandardScaler()\n",
        "      xtemp = scaler.fit_transform(xtrain)\n",
        "      feat_a = xtemp[:,13]\n",
        "      feat_b = xtemp[:,13:26]\n",
        "    else :\n",
        "      xtemp = xtrain.copy()\n",
        "      ytemp = ytrain.copy()\n",
        "      feat_a = xtemp[:,:13]\n",
        "      feat_b = xtemp[:,13:26]\n",
        "    return np.concatenate((feat_a,feat_b),axis = 1)[ytemp == 0],np.concatenate((feat_a,feat_b),axis = 1)[ytemp == 1]\n",
        "\n"
      ],
      "execution_count": 0,
      "outputs": []
    },
    {
      "cell_type": "code",
      "metadata": {
        "id": "KwdQ9SJQ7YvV",
        "colab_type": "code",
        "colab": {}
      },
      "source": [
        "#Histograms of the features\n",
        "def histo(i, n_bins,resampling=False, scaling=False):\n",
        "    classe0 = pd.DataFrame(feature_engineering(resampling,scaling)[0])\n",
        "    classe1 = pd.DataFrame(feature_engineering(resampling, scaling)[1])\n",
        "    fig,ax = plt.subplots(1,2, figsize = (15,5))\n",
        "    plt.suptitle(\"Histogram of the feature: \" + str(i) ,size = 16, weight = 'semibold')\n",
        "    ax[0].hist(classe0[i],n_bins,color= 'red',edgecolor = 'black')\n",
        "    ax[0].set_xlabel(\"values\")\n",
        "    ax[0].set_title(\"classe 0\")\n",
        "    ax[1].hist(classe1[i],n_bins,color= 'blue', edgecolor = 'black')\n",
        "    ax[1].set_xlabel(\"values\")\n",
        "    ax[1].set_title(\"classe 1\")\n",
        "    plt.show()\n",
        "    return"
      ],
      "execution_count": 0,
      "outputs": []
    },
    {
      "cell_type": "code",
      "metadata": {
        "id": "0U12sgJ17Yvc",
        "colab_type": "code",
        "outputId": "da3b5ac3-3f63-4d7d-eee9-4dba35f18a0b",
        "colab": {
          "base_uri": "https://localhost:8080/",
          "height": 370
        }
      },
      "source": [
        "histo(2,100) "
      ],
      "execution_count": 0,
      "outputs": [
        {
          "output_type": "display_data",
          "data": {
            "image/png": "[encoded data removed]",
            "text/plain": [
              "<Figure size 1080x360 with 2 Axes>"
            ]
          },
          "metadata": {
            "tags": [],
            "needs_background": "light"
          }
        }
      ]
    },
    {
      "cell_type": "code",
      "metadata": {
        "id": "WlyVdh5fh1LE",
        "colab_type": "code",
        "colab": {}
      },
      "source": [
        "#Histograms of the features\n",
        "def histo(i,h,resampling=False, scaling=False):\n",
        "    classe0 = pd.DataFrame(feature_engineering(True,False)[0])\n",
        "    classe1 = pd.DataFrame(feature_engineering(True, False)[1])\n",
        "    plt.scatter(classe0[i],classe0[i+h],color= 'red')\n",
        "    plt.scatter(classe1[i],classe1[i+h],color= 'blue')\n",
        "    plt.show()\n",
        "    return"
      ],
      "execution_count": 0,
      "outputs": []
    },
    {
      "cell_type": "code",
      "metadata": {
        "id": "PUkgITLnjGYO",
        "colab_type": "code",
        "outputId": "b7aa2770-fd78-44ee-e021-ba059469a5fa",
        "colab": {
          "base_uri": "https://localhost:8080/",
          "height": 354
        }
      },
      "source": [
        ""
      ],
      "execution_count": 0,
      "outputs": [
        {
          "output_type": "stream",
          "text": [
            "/usr/local/lib/python3.6/dist-packages/sklearn/utils/deprecation.py:87: FutureWarning: Function safe_indexing is deprecated; safe_indexing is deprecated in version 0.22 and will be removed in version 0.24.\n",
            "  warnings.warn(msg, category=FutureWarning)\n",
            "/usr/local/lib/python3.6/dist-packages/sklearn/utils/deprecation.py:87: FutureWarning: Function safe_indexing is deprecated; safe_indexing is deprecated in version 0.22 and will be removed in version 0.24.\n",
            "  warnings.warn(msg, category=FutureWarning)\n"
          ],
          "name": "stderr"
        },
        {
          "output_type": "display_data",
          "data": {
            "image/png": "[encoded data removed]",
            "text/plain": [
              "<Figure size 432x288 with 1 Axes>"
            ]
          },
          "metadata": {
            "tags": [],
            "needs_background": "light"
          }
        }
      ]
    },
    {
      "cell_type": "markdown",
      "metadata": {
        "id": "K4CJjMiXnFtc",
        "colab_type": "text"
      },
      "source": [
        "Impossible to **dinstinguish classes** from the first features as it is : high **overlap**."
      ]
    },
    {
      "cell_type": "code",
      "metadata": {
        "id": "VN28fNsRoQIw",
        "colab_type": "code",
        "outputId": "e2c06aba-cb0a-42c9-9419-89d24321aa18",
        "colab": {
          "base_uri": "https://localhost:8080/",
          "height": 496
        }
      },
      "source": [
        "#Let's try some Linear Discriminant Analysis to try separating the two groups\n",
        "#Preprocessing using LDA\n",
        "lda = LinearDiscriminantAnalysis(solver = 'eigen',shrinkage = 'auto')\n",
        "processed_data = lda.fit_transform(xtrain[:,:26],ytrain)\n",
        "\n",
        "#Plotting results\n",
        "n_bins = 20\n",
        "fig,ax = plt.subplots(1,2, figsize = (20,7))\n",
        "plt.suptitle(\"LDA results\",size = 16, weight = 'semibold')\n",
        "ax[0].hist(processed_data[ytrain==0],n_bins,color= 'green',edgecolor = 'black')\n",
        "ax[0].set_xlabel(\"values\",size = 'large')\n",
        "ax[0].set_title(\"classe 0\",size = 'large')\n",
        "ax[1].hist(processed_data[ytrain==1],n_bins,color= 'yellow', edgecolor = 'black')\n",
        "ax[1].set_xlabel(\"values\",size = 'large')\n",
        "ax[1].set_title(\"classe 1\",size = 'large')\n",
        "plt.show()"
      ],
      "execution_count": 0,
      "outputs": [
        {
          "output_type": "display_data",
          "data": {
            "image/png": "[encoded data removed]",
            "text/plain": [
              "<Figure size 1440x504 with 2 Axes>"
            ]
          },
          "metadata": {
            "tags": [],
            "needs_background": "light"
          }
        }
      ]
    },
    {
      "cell_type": "markdown",
      "metadata": {
        "id": "eMLxM5VotErO",
        "colab_type": "text"
      },
      "source": [
        "That's it we won't be able to get more than this, out of the first features. There still is a high overlap between the two classes. And because there is an overwhelming majority of samples in the negative class, our classification algorithms on such data are very likely to put every prediction to zero to maximize accuracy."
      ]
    },
    {
      "cell_type": "markdown",
      "metadata": {
        "id": "Sgy50fvLn_Hd",
        "colab_type": "text"
      },
      "source": [
        "### Scores"
      ]
    },
    {
      "cell_type": "code",
      "metadata": {
        "id": "BMTok-UZ7Yvs",
        "colab_type": "code",
        "colab": {}
      },
      "source": [
        "##Let's see what the scores look like\n",
        "def feature_engineering_sc(resampling = False, scaling = False):\n",
        "    '''\n",
        "    Desc :\n",
        "    fscores are the scores computed from the 2 pictures\n",
        "    \n",
        "    Inputs :\n",
        "    resampling consists in undersampling the majority class using RUS\n",
        "    scaling checks the effects of scaling on data repartition\n",
        "    '''\n",
        "    if resampling:\n",
        "      ros = RandomUnderSampler()\n",
        "      xtemp, ytemp = ros.fit_resample(xtrain,ytrain)\n",
        "      scores = xtemp[:,26:]\n",
        "    if scaling:\n",
        "      scaler = StandardScaler()\n",
        "      xtemp = scaler.fit_transform(xtrain)\n",
        "      scores = xtemp[:,26:]\n",
        "    else :\n",
        "      xtemp = xtrain.copy()\n",
        "      ytemp = ytrain.copy()\n",
        "      scores = xtrain[:,26:]\n",
        "    return scores[ytemp == 0],scores[ytemp == 1]\n",
        "\n",
        "def histo_sc(i, n_bins,resampling=False,scaling=False):\n",
        "    classe0_score = pd.DataFrame(feature_engineering_sc(resampling,scaling)[0])\n",
        "    classe1_score = pd.DataFrame(feature_engineering_sc(resampling,scaling)[1])\n",
        "    n_bins = 100\n",
        "    fig,ax = plt.subplots(1,2, figsize = (15,5))\n",
        "    plt.suptitle(\"Score \" + str(i) + \" for the classes\",size = 16, weight = 'semibold')\n",
        "    ax[0].hist(classe0_score[i],n_bins,color= 'red',edgecolor ='black')\n",
        "    ax[0].set_xlabel(\"Score\")\n",
        "    ax[0].set_title(\"classe 0\")\n",
        "    ax[1].hist(classe1_score[i],n_bins,color= 'blue',edgecolor = 'black')\n",
        "    ax[1].set_xlabel(\"Score\")\n",
        "    ax[1].set_title(\"classe 1\")\n",
        "    plt.show()\n",
        "    return"
      ],
      "execution_count": 0,
      "outputs": []
    },
    {
      "cell_type": "code",
      "metadata": {
        "id": "D0NWPGj87Yv1",
        "colab_type": "code",
        "outputId": "81e6b6c3-9412-4760-c181-c08d9bab6e3c",
        "colab": {
          "base_uri": "https://localhost:8080/",
          "height": 370
        }
      },
      "source": [
        "histo_sc(5,100)"
      ],
      "execution_count": 0,
      "outputs": [
        {
          "output_type": "display_data",
          "data": {
            "image/png": "[encoded data removed]",
            "text/plain": [
              "<Figure size 1080x360 with 2 Axes>"
            ]
          },
          "metadata": {
            "tags": [],
            "needs_background": "light"
          }
        }
      ]
    },
    {
      "cell_type": "markdown",
      "metadata": {
        "id": "Qgzh2y547YwF",
        "colab_type": "text"
      },
      "source": [
        "**Conclusion** : The data from the scores are way cleaner and seem to be able to be classified correctly using a linear classifier such as an SVM. Yet, it seems  to remain some overlapping data between the two classes. We might not be able to get a great accuracy score from out of these data only. "
      ]
    },
    {
      "cell_type": "markdown",
      "metadata": {
        "id": "as5blWB7t-Xv",
        "colab_type": "text"
      },
      "source": [
        "## Good Results on score using SVM \n",
        "\n"
      ]
    },
    {
      "cell_type": "markdown",
      "metadata": {
        "id": "yyaEhyKnxGSn",
        "colab_type": "text"
      },
      "source": [
        "We try to classify the data using only the scores and an SVM, to get experimental validation of our thoughts. Because the SVM computational time on the whole data set is high, we undersample the majority class first."
      ]
    },
    {
      "cell_type": "code",
      "metadata": {
        "id": "7tRMgOGzhUtN",
        "colab_type": "code",
        "outputId": "e9129298-dccb-412e-9c9a-25b6bc5fe81a",
        "colab": {
          "base_uri": "https://localhost:8080/",
          "height": 124
        }
      },
      "source": [
        "##Preprocessing\n",
        "#Splitting data\n",
        "xxtrain, xxtest, yytrain, yytest = train_test_split(xtrain, ytrain, test_size = 0.2)\n",
        "\n",
        "#Random UnderSampling\n",
        "ros = RandomUnderSampler()\n",
        "xxtrain_ros, yytrain_ros = ros.fit_sample(xxtrain, yytrain)\n",
        "#Tomek Links\n",
        "undersample = TomekLinks()\n",
        "xxtrain_tl, yytrain_tl = undersample.fit_resample(xxtrain_ros, yytrain_ros)\n",
        "#Checking proportions\n",
        "print('Class balance', np.sum(yytrain_tl)/len(yytrain_tl),np.sum(yytrain_ros)/len(yytrain_ros),np.sum(yytrain)/len(yytrain), np.sum(yytest)/len(yytest),np.sum(ytrain)/len(ytrain)) "
      ],
      "execution_count": 0,
      "outputs": [
        {
          "output_type": "stream",
          "text": [
            "/usr/local/lib/python3.6/dist-packages/sklearn/utils/deprecation.py:87: FutureWarning: Function safe_indexing is deprecated; safe_indexing is deprecated in version 0.22 and will be removed in version 0.24.\n",
            "  warnings.warn(msg, category=FutureWarning)\n"
          ],
          "name": "stderr"
        },
        {
          "output_type": "stream",
          "text": [
            "Class balance 0.4992886275253723 0.5 0.03705415165833531 0.037056448027852 0.03705461093266848\n"
          ],
          "name": "stdout"
        },
        {
          "output_type": "stream",
          "text": [
            "/usr/local/lib/python3.6/dist-packages/sklearn/utils/deprecation.py:87: FutureWarning: Function safe_indexing is deprecated; safe_indexing is deprecated in version 0.22 and will be removed in version 0.24.\n",
            "  warnings.warn(msg, category=FutureWarning)\n"
          ],
          "name": "stderr"
        }
      ]
    },
    {
      "cell_type": "markdown",
      "metadata": {
        "id": "l8-wzT0CPIfy",
        "colab_type": "text"
      },
      "source": [
        "#### Best SVM"
      ]
    },
    {
      "cell_type": "code",
      "metadata": {
        "id": "jQmP7rn5PP-d",
        "colab_type": "code",
        "outputId": "e94b349b-a080-42d2-ea66-93acc7def827",
        "colab": {
          "base_uri": "https://localhost:8080/",
          "height": 156
        }
      },
      "source": [
        "## Getting the SVM and confusion matrix\n",
        "t = time()\n",
        "svm_est = svm.SVC(kernel = 'linear', C =  300, class_weight= {0 : 0.96 , 1 : 0.04}) #hyper parameters have been obtained using CrossValidation, not shown here\n",
        "svm_est.fit(xxtrain_tl, yytrain_tl) #fitting on resampled data\n",
        "\n",
        "print(\"Computing time %f s\" %(time() -t))\n",
        "\n",
        "#Getting predictions \n",
        "yytrain_pred = svm_est.predict(xxtrain_tl)\n",
        "yytest_pred = svm_est.predict(xxtest)\n",
        "\n",
        "#Computing confusion matrix \n",
        "conf_mat0 = confusion_matrix(y_true=yytrain_tl, y_pred=yytrain_pred) #results of the train\n",
        "print('Train Confusion matrix:\\n', conf_mat0)\n",
        "conf_mat1 = confusion_matrix(y_true=yytest, y_pred=yytest_pred) #checking on imbalanced data\n",
        "print('Test Confusion matrix:\\n', conf_mat1)\n",
        "\n",
        "#Score \n",
        "print('Score %f' %svm_est.score(xxtest,yytest))"
      ],
      "execution_count": 0,
      "outputs": [
        {
          "output_type": "stream",
          "text": [
            "Computing time 544.159127 s\n",
            "Train Confusion matrix:\n",
            " [[31658    16]\n",
            " [ 1073 30511]]\n",
            "Test Confusion matrix:\n",
            " [[205634    148]\n",
            " [   294   7625]]\n",
            "Score 0.997932\n"
          ],
          "name": "stdout"
        }
      ]
    },
    {
      "cell_type": "markdown",
      "metadata": {
        "id": "s9_BpjqqBWcx",
        "colab_type": "text"
      },
      "source": [
        "As we can see, SVM show good results on our split using only the scores. In fact these results are just the ones of the algorithms you used on the image. "
      ]
    },
    {
      "cell_type": "markdown",
      "metadata": {
        "id": "72_7xQXB9Sq5",
        "colab_type": "text"
      },
      "source": [
        "\n",
        "## How to do the fusion ?\n",
        "\n",
        "\n",
        "Now question is : how can we get better results by **using data of the first features** ? \n",
        "\n",
        "A first idea I had was to try to **process the scores and the first features separetly**, to classify them using two different classifiers each adapted to each data set. Then I would merge the results by taking into account **confidence scores** on each of the two prediction. A huge drawback to this technique is that, as we saw, **on its own, the data set of the first features is not usable**. Therefore one of the classifier would totally fail at predicting anything but zeros. \n",
        "\n",
        "A good idea is to **extend the dimensions of the data set of the first features** by incorporating the data on the score. That's in fact a natural idea when you see *xtrain*. Why would it yield better results ? We could understand it if we thought in 3 dimensions. \n",
        "\n",
        "Let's say you have a 2 D data set with overlapping data from 2 classes, and you add a third dimension with new information on these 2 classes. The overlapping data in the first 2 D plane could be separated thanks to this new information, and the ovelapping data in the new axis wouldn't be a problem because it could be separated thanks to a projection on the plane.\n",
        "\n",
        "To be able to do such a classification you need a new classifier that's not linear and good with high dimensions. SVM is out of question whatever the kernel might be. Neural Networks are not suited for these kind of problems, therefore I choose to use Trees. After trying and testing results Basic Trees and Random Forest don't yield good results. Therefore I used **boosted trees** and **XGB** (and also because I heard it is used to winning data classification contests to be quite honest ahah)"
      ]
    },
    {
      "cell_type": "markdown",
      "metadata": {
        "id": "jcEFU4zDfL7P",
        "colab_type": "text"
      },
      "source": [
        "## Final Results"
      ]
    },
    {
      "cell_type": "code",
      "metadata": {
        "id": "R_4Iy_4JIX1H",
        "colab_type": "code",
        "colab": {}
      },
      "source": [
        "##Preprocessing\n",
        "#Scaling\n",
        "#I use pandas to process the data as numpy seems to fail with xtest\n",
        "mean = x_train.mean()\n",
        "std = x_train.std()\n",
        "x_train_ft=(x_train-mean)/std\n",
        "mean = x_test.mean()\n",
        "std = x_test.std()\n",
        "x_test_ft = (x_test-mean)/std"
      ],
      "execution_count": 0,
      "outputs": []
    },
    {
      "cell_type": "code",
      "metadata": {
        "id": "aQjNT-tKooL9",
        "colab_type": "code",
        "colab": {}
      },
      "source": [
        "interaction_constraints = []\n",
        "for i in range(13):\n",
        "  interaction_constraints.append([i,i+13])\n",
        "interaction_constraints.append([26 + k for k in range(11)])"
      ],
      "execution_count": 0,
      "outputs": []
    },
    {
      "cell_type": "code",
      "metadata": {
        "id": "JFUjONAZo01K",
        "colab_type": "code",
        "outputId": "82a4e5a0-bc49-4efd-99d5-952753bd3b99",
        "colab": {
          "base_uri": "https://localhost:8080/",
          "height": 260
        }
      },
      "source": [
        "interaction_constraints"
      ],
      "execution_count": 0,
      "outputs": [
        {
          "output_type": "execute_result",
          "data": {
            "text/plain": [
              "[[0, 13],\n",
              " [1, 14],\n",
              " [2, 15],\n",
              " [3, 16],\n",
              " [4, 17],\n",
              " [5, 18],\n",
              " [6, 19],\n",
              " [7, 20],\n",
              " [8, 21],\n",
              " [9, 22],\n",
              " [10, 23],\n",
              " [11, 24],\n",
              " [12, 25],\n",
              " [26, 27, 28, 29, 30, 31, 32, 33, 34, 35, 36]]"
            ]
          },
          "metadata": {
            "tags": []
          },
          "execution_count": 61
        }
      ]
    },
    {
      "cell_type": "code",
      "metadata": {
        "id": "pymy1OhyIIgl",
        "colab_type": "code",
        "colab": {}
      },
      "source": [
        "model = XGBClassifier(scale_pos_weight = 27.4,learning_rate =0.03, n_estimators=1300, max_depth=12,\n",
        "min_child_weight=4, gamma=0.1, subsample=0.65, colsample_bytree=0.7, reg_alpha = 0.1,\n",
        "objective= 'binary:logistic', nthread=4,seed=27,tree_method = 'gpu_hist',interaction_constraints = interaction_constraints,early_stopping_rouds = 10,eval_metric = 'auc') #I used cross validation by hand to tune hyperparameters"
      ],
      "execution_count": 0,
      "outputs": []
    },
    {
      "cell_type": "code",
      "metadata": {
        "id": "ywaaaZypR5CJ",
        "colab_type": "code",
        "outputId": "2df7b7eb-1b5c-4050-9304-d61fd1f849bf",
        "colab": {
          "base_uri": "https://localhost:8080/",
          "height": 34
        }
      },
      "source": [
        "cross_val_score(model,x_train_ft,ytrain)"
      ],
      "execution_count": 0,
      "outputs": [
        {
          "output_type": "execute_result",
          "data": {
            "text/plain": [
              "array([0.99879739, 0.9989986 , 0.99902668, 0.99912963, 0.99901263])"
            ]
          },
          "metadata": {
            "tags": []
          },
          "execution_count": 84
        }
      ]
    },
    {
      "cell_type": "code",
      "metadata": {
        "id": "BVGqvJ5rz9St",
        "colab_type": "code",
        "outputId": "68672622-d267-4ac0-f125-67886338dac2",
        "colab": {
          "base_uri": "https://localhost:8080/",
          "height": 540
        }
      },
      "source": [
        "StratifiedKFold(model,x_train_ft,ytrain)"
      ],
      "execution_count": 0,
      "outputs": [
        {
          "output_type": "error",
          "ename": "ValueError",
          "evalue": "ignored",
          "traceback": [
            "\u001b[0;31m---------------------------------------------------------------------------\u001b[0m",
            "\u001b[0;31mValueError\u001b[0m                                Traceback (most recent call last)",
            "\u001b[0;32m<ipython-input-86-4f891081b2e8>\u001b[0m in \u001b[0;36m<module>\u001b[0;34m()\u001b[0m\n\u001b[0;32m----> 1\u001b[0;31m \u001b[0mStratifiedKFold\u001b[0m\u001b[0;34m(\u001b[0m\u001b[0mmodel\u001b[0m\u001b[0;34m,\u001b[0m\u001b[0mx_train_ft\u001b[0m\u001b[0;34m,\u001b[0m\u001b[0mytrain\u001b[0m\u001b[0;34m)\u001b[0m\u001b[0;34m\u001b[0m\u001b[0;34m\u001b[0m\u001b[0m\n\u001b[0m",
            "\u001b[0;32m/usr/local/lib/python3.6/dist-packages/sklearn/model_selection/_split.py\u001b[0m in \u001b[0;36m__init__\u001b[0;34m(self, n_splits, shuffle, random_state)\u001b[0m\n\u001b[1;32m    634\u001b[0m \u001b[0;34m\u001b[0m\u001b[0m\n\u001b[1;32m    635\u001b[0m     \u001b[0;32mdef\u001b[0m \u001b[0m__init__\u001b[0m\u001b[0;34m(\u001b[0m\u001b[0mself\u001b[0m\u001b[0;34m,\u001b[0m \u001b[0mn_splits\u001b[0m\u001b[0;34m=\u001b[0m\u001b[0;36m5\u001b[0m\u001b[0;34m,\u001b[0m \u001b[0mshuffle\u001b[0m\u001b[0;34m=\u001b[0m\u001b[0;32mFalse\u001b[0m\u001b[0;34m,\u001b[0m \u001b[0mrandom_state\u001b[0m\u001b[0;34m=\u001b[0m\u001b[0;32mNone\u001b[0m\u001b[0;34m)\u001b[0m\u001b[0;34m:\u001b[0m\u001b[0;34m\u001b[0m\u001b[0;34m\u001b[0m\u001b[0m\n\u001b[0;32m--> 636\u001b[0;31m         \u001b[0msuper\u001b[0m\u001b[0;34m(\u001b[0m\u001b[0;34m)\u001b[0m\u001b[0;34m.\u001b[0m\u001b[0m__init__\u001b[0m\u001b[0;34m(\u001b[0m\u001b[0mn_splits\u001b[0m\u001b[0;34m,\u001b[0m \u001b[0mshuffle\u001b[0m\u001b[0;34m,\u001b[0m \u001b[0mrandom_state\u001b[0m\u001b[0;34m)\u001b[0m\u001b[0;34m\u001b[0m\u001b[0;34m\u001b[0m\u001b[0m\n\u001b[0m\u001b[1;32m    637\u001b[0m \u001b[0;34m\u001b[0m\u001b[0m\n\u001b[1;32m    638\u001b[0m     \u001b[0;32mdef\u001b[0m \u001b[0m_make_test_folds\u001b[0m\u001b[0;34m(\u001b[0m\u001b[0mself\u001b[0m\u001b[0;34m,\u001b[0m \u001b[0mX\u001b[0m\u001b[0;34m,\u001b[0m \u001b[0my\u001b[0m\u001b[0;34m=\u001b[0m\u001b[0;32mNone\u001b[0m\u001b[0;34m)\u001b[0m\u001b[0;34m:\u001b[0m\u001b[0;34m\u001b[0m\u001b[0;34m\u001b[0m\u001b[0m\n",
            "\u001b[0;32m/usr/local/lib/python3.6/dist-packages/sklearn/model_selection/_split.py\u001b[0m in \u001b[0;36m__init__\u001b[0;34m(self, n_splits, shuffle, random_state)\u001b[0m\n\u001b[1;32m    275\u001b[0m             raise ValueError('The number of folds must be of Integral type. '\n\u001b[1;32m    276\u001b[0m                              \u001b[0;34m'%s of type %s was passed.'\u001b[0m\u001b[0;34m\u001b[0m\u001b[0;34m\u001b[0m\u001b[0m\n\u001b[0;32m--> 277\u001b[0;31m                              % (n_splits, type(n_splits)))\n\u001b[0m\u001b[1;32m    278\u001b[0m         \u001b[0mn_splits\u001b[0m \u001b[0;34m=\u001b[0m \u001b[0mint\u001b[0m\u001b[0;34m(\u001b[0m\u001b[0mn_splits\u001b[0m\u001b[0;34m)\u001b[0m\u001b[0;34m\u001b[0m\u001b[0;34m\u001b[0m\u001b[0m\n\u001b[1;32m    279\u001b[0m \u001b[0;34m\u001b[0m\u001b[0m\n",
            "\u001b[0;31mValueError\u001b[0m: The number of folds must be of Integral type. XGBClassifier(base_score=0.5, booster='gbtree', colsample_bylevel=1,\n              colsample_bynode=1, colsample_bytree=0.7, early_stopping_rouds=10,\n              eval_metric='auc', gamma=0.1,\n              interaction_constraints=[[0, 13], [1, 14], [2, 15], [3, 16],\n                                       [4, 17], [5, 18], [6, 19], [7, 20],\n                                       [8, 21], [9, 22], [10, 23], [11, 24],\n                                       [12, 25],\n                                       [26, 27, 28, 29, 30, 31, 32, 33, 34, 35,\n                                        36]],\n              learning_rate=0.03, max_delta_step=0, max_depth=12,\n              min_child_weight=4, missing=None, n_estimators=1300, n_jobs=1,\n              nthread=4, objective='binary:logistic', random_state=0,\n              reg_alpha=0.1, reg_lambda=1, scale_pos_weight=27.4, seed=27,\n              silent=None, subsample=0.65, tree_method='gpu_hist', verbosity=1) of type <class 'xgboost.sklearn.XGBClassifier'> was passed."
          ]
        }
      ]
    },
    {
      "cell_type": "code",
      "metadata": {
        "id": "DLMa6tl6M44Y",
        "colab_type": "code",
        "outputId": "0dfc6fe3-0648-42d9-e9f9-28b2db4107d9",
        "colab": {
          "base_uri": "https://localhost:8080/",
          "height": 1000
        }
      },
      "source": [
        "## Check for overfitting;  I found the code on the Internet\n",
        "from sklearn.metrics import accuracy_score\n",
        "xxtrain, xxtest,yytrain,yytest = train_test_split(xtrain,ytrain,test_size = 0.2)\n",
        "eval_set = [(xxtrain, yytrain), (xxtest, yytest)]\n",
        "model.fit(xxtrain, yytrain, eval_metric=[\"error\", \"logloss\"], eval_set=eval_set, verbose=True,early_stopping_rounds= 10)\n",
        "# make predictions for test data\n",
        "y_pred = model.predict(xxtest)\n",
        "predictions = [round(value) for value in y_pred]\n",
        "# evaluate predictions\n",
        "accuracy = accuracy_score(yytest, predictions)\n",
        "print(\"Accuracy: %.2f%%\" % (accuracy * 100.0))\n",
        "# retrieve performance metrics\n",
        "results = model.evals_result()\n",
        "epochs = len(results['validation_0']['error'])\n",
        "x_axis = range(0, epochs)\n",
        "# plot log loss\n",
        "fig, ax = plt.subplots()\n",
        "ax.plot(x_axis, results['validation_0']['logloss'], label='Train')\n",
        "ax.plot(x_axis, results['validation_1']['logloss'], label='Test')\n",
        "ax.legend()\n",
        "plt.ylabel('Log Loss')\n",
        "plt.title('XGBoost Log Loss')\n",
        "plt.show()\n",
        "# plot classification error\n",
        "fig, ax = plt.subplots()\n",
        "ax.plot(x_axis, results['validation_0']['error'], label='Train')\n",
        "ax.plot(x_axis, results['validation_1']['error'], label='Test')\n",
        "ax.legend()\n",
        "plt.ylabel('Classification Error')\n",
        "plt.title('XGBoost Classification Error')\n",
        "plt.show()"
      ],
      "execution_count": 0,
      "outputs": [
        {
          "output_type": "stream",
          "text": [
            "[0]\tvalidation_0-error:0.004643\tvalidation_0-logloss:0.664014\tvalidation_1-error:0.005723\tvalidation_1-logloss:0.66407\n",
            "Multiple eval metrics have been passed: 'validation_1-logloss' will be used for early stopping.\n",
            "\n",
            "Will train until validation_1-logloss hasn't improved in 10 rounds.\n",
            "[1]\tvalidation_0-error:0.003047\tvalidation_0-logloss:0.636487\tvalidation_1-error:0.003837\tvalidation_1-logloss:0.636589\n",
            "[2]\tvalidation_0-error:0.003168\tvalidation_0-logloss:0.637274\tvalidation_1-error:0.00555\tvalidation_1-logloss:0.665623\n",
            "[3]\tvalidation_0-error:0.00279\tvalidation_0-logloss:0.610555\tvalidation_1-error:0.003233\tvalidation_1-logloss:0.58619\n",
            "[4]\tvalidation_0-error:0.002904\tvalidation_0-logloss:0.612555\tvalidation_1-error:0.003285\tvalidation_1-logloss:0.563004\n",
            "[5]\tvalidation_0-error:0.002156\tvalidation_0-logloss:0.541583\tvalidation_1-error:0.002971\tvalidation_1-logloss:0.541875\n",
            "[6]\tvalidation_0-error:0.002509\tvalidation_0-logloss:0.56518\tvalidation_1-error:0.003074\tvalidation_1-logloss:0.521082\n",
            "[7]\tvalidation_0-error:0.002181\tvalidation_0-logloss:0.52203\tvalidation_1-error:0.002915\tvalidation_1-logloss:0.501219\n",
            "[8]\tvalidation_0-error:0.002153\tvalidation_0-logloss:0.505227\tvalidation_1-error:0.003201\tvalidation_1-logloss:0.524405\n",
            "[9]\tvalidation_0-error:0.002062\tvalidation_0-logloss:0.465504\tvalidation_1-error:0.002915\tvalidation_1-logloss:0.510806\n",
            "[10]\tvalidation_0-error:0.002066\tvalidation_0-logloss:0.466043\tvalidation_1-error:0.002929\tvalidation_1-logloss:0.468284\n",
            "[11]\tvalidation_0-error:0.002031\tvalidation_0-logloss:0.46786\tvalidation_1-error:0.002831\tvalidation_1-logloss:0.450291\n",
            "[12]\tvalidation_0-error:0.002017\tvalidation_0-logloss:0.454644\tvalidation_1-error:0.002761\tvalidation_1-logloss:0.418743\n",
            "[13]\tvalidation_0-error:0.001982\tvalidation_0-logloss:0.410926\tvalidation_1-error:0.002836\tvalidation_1-logloss:0.427164\n",
            "[14]\tvalidation_0-error:0.001984\tvalidation_0-logloss:0.411421\tvalidation_1-error:0.002733\tvalidation_1-logloss:0.404393\n",
            "[15]\tvalidation_0-error:0.001955\tvalidation_0-logloss:0.421277\tvalidation_1-error:0.002789\tvalidation_1-logloss:0.409466\n",
            "[16]\tvalidation_0-error:0.001943\tvalidation_0-logloss:0.398983\tvalidation_1-error:0.002826\tvalidation_1-logloss:0.418784\n",
            "[17]\tvalidation_0-error:0.001893\tvalidation_0-logloss:0.38384\tvalidation_1-error:0.00278\tvalidation_1-logloss:0.385459\n",
            "[18]\tvalidation_0-error:0.001931\tvalidation_0-logloss:0.37397\tvalidation_1-error:0.002733\tvalidation_1-logloss:0.431523\n",
            "[19]\tvalidation_0-error:0.001868\tvalidation_0-logloss:0.393656\tvalidation_1-error:0.002742\tvalidation_1-logloss:0.375876\n",
            "[20]\tvalidation_0-error:0.00189\tvalidation_0-logloss:0.364227\tvalidation_1-error:0.002766\tvalidation_1-logloss:0.375515\n",
            "[21]\tvalidation_0-error:0.001869\tvalidation_0-logloss:0.347563\tvalidation_1-error:0.002691\tvalidation_1-logloss:0.345594\n",
            "[22]\tvalidation_0-error:0.001899\tvalidation_0-logloss:0.361406\tvalidation_1-error:0.002705\tvalidation_1-logloss:0.327429\n",
            "[23]\tvalidation_0-error:0.001886\tvalidation_0-logloss:0.337768\tvalidation_1-error:0.002742\tvalidation_1-logloss:0.346321\n",
            "[24]\tvalidation_0-error:0.001857\tvalidation_0-logloss:0.345729\tvalidation_1-error:0.002719\tvalidation_1-logloss:0.324178\n",
            "[25]\tvalidation_0-error:0.001928\tvalidation_0-logloss:0.370554\tvalidation_1-error:0.002723\tvalidation_1-logloss:0.344768\n",
            "[26]\tvalidation_0-error:0.001865\tvalidation_0-logloss:0.333557\tvalidation_1-error:0.002714\tvalidation_1-logloss:0.351546\n",
            "[27]\tvalidation_0-error:0.001839\tvalidation_0-logloss:0.316509\tvalidation_1-error:0.0027\tvalidation_1-logloss:0.336741\n",
            "[28]\tvalidation_0-error:0.001898\tvalidation_0-logloss:0.33867\tvalidation_1-error:0.002714\tvalidation_1-logloss:0.298986\n",
            "[29]\tvalidation_0-error:0.001876\tvalidation_0-logloss:0.320784\tvalidation_1-error:0.002677\tvalidation_1-logloss:0.319358\n",
            "[30]\tvalidation_0-error:0.001838\tvalidation_0-logloss:0.321394\tvalidation_1-error:0.002742\tvalidation_1-logloss:0.339333\n",
            "[31]\tvalidation_0-error:0.001836\tvalidation_0-logloss:0.329622\tvalidation_1-error:0.002686\tvalidation_1-logloss:0.336169\n",
            "[32]\tvalidation_0-error:0.001852\tvalidation_0-logloss:0.334292\tvalidation_1-error:0.002691\tvalidation_1-logloss:0.301281\n",
            "[33]\tvalidation_0-error:0.001836\tvalidation_0-logloss:0.316159\tvalidation_1-error:0.002723\tvalidation_1-logloss:0.317413\n",
            "[34]\tvalidation_0-error:0.001859\tvalidation_0-logloss:0.355674\tvalidation_1-error:0.002808\tvalidation_1-logloss:0.332317\n",
            "[35]\tvalidation_0-error:0.001832\tvalidation_0-logloss:0.293567\tvalidation_1-error:0.002695\tvalidation_1-logloss:0.28917\n",
            "[36]\tvalidation_0-error:0.00184\tvalidation_0-logloss:0.310212\tvalidation_1-error:0.002728\tvalidation_1-logloss:0.334284\n",
            "[37]\tvalidation_0-error:0.001832\tvalidation_0-logloss:0.284404\tvalidation_1-error:0.002709\tvalidation_1-logloss:0.29637\n",
            "[38]\tvalidation_0-error:0.001813\tvalidation_0-logloss:0.344039\tvalidation_1-error:0.002714\tvalidation_1-logloss:0.299907\n",
            "[39]\tvalidation_0-error:0.001825\tvalidation_0-logloss:0.290585\tvalidation_1-error:0.0027\tvalidation_1-logloss:0.304088\n",
            "[40]\tvalidation_0-error:0.001777\tvalidation_0-logloss:0.273275\tvalidation_1-error:0.002728\tvalidation_1-logloss:0.293527\n",
            "[41]\tvalidation_0-error:0.001807\tvalidation_0-logloss:0.296635\tvalidation_1-error:0.002686\tvalidation_1-logloss:0.275868\n",
            "[42]\tvalidation_0-error:0.001805\tvalidation_0-logloss:0.266121\tvalidation_1-error:0.002723\tvalidation_1-logloss:0.275263\n",
            "[43]\tvalidation_0-error:0.001809\tvalidation_0-logloss:0.302882\tvalidation_1-error:0.002681\tvalidation_1-logloss:0.280709\n",
            "[44]\tvalidation_0-error:0.001802\tvalidation_0-logloss:0.301592\tvalidation_1-error:0.002672\tvalidation_1-logloss:0.29902\n",
            "[45]\tvalidation_0-error:0.001792\tvalidation_0-logloss:0.288951\tvalidation_1-error:0.002723\tvalidation_1-logloss:0.273974\n",
            "[46]\tvalidation_0-error:0.001802\tvalidation_0-logloss:0.264696\tvalidation_1-error:0.002705\tvalidation_1-logloss:0.282031\n",
            "[47]\tvalidation_0-error:0.001776\tvalidation_0-logloss:0.269547\tvalidation_1-error:0.00263\tvalidation_1-logloss:0.276615\n",
            "[48]\tvalidation_0-error:0.001795\tvalidation_0-logloss:0.267457\tvalidation_1-error:0.002663\tvalidation_1-logloss:0.260689\n",
            "[49]\tvalidation_0-error:0.001759\tvalidation_0-logloss:0.265094\tvalidation_1-error:0.002709\tvalidation_1-logloss:0.270012\n",
            "[50]\tvalidation_0-error:0.001783\tvalidation_0-logloss:0.268807\tvalidation_1-error:0.002625\tvalidation_1-logloss:0.263464\n",
            "[51]\tvalidation_0-error:0.001777\tvalidation_0-logloss:0.272875\tvalidation_1-error:0.002639\tvalidation_1-logloss:0.256122\n",
            "[52]\tvalidation_0-error:0.001759\tvalidation_0-logloss:0.25458\tvalidation_1-error:0.002658\tvalidation_1-logloss:0.261091\n",
            "[53]\tvalidation_0-error:0.00177\tvalidation_0-logloss:0.270139\tvalidation_1-error:0.00263\tvalidation_1-logloss:0.254741\n",
            "[54]\tvalidation_0-error:0.001759\tvalidation_0-logloss:0.264799\tvalidation_1-error:0.002644\tvalidation_1-logloss:0.271189\n",
            "[55]\tvalidation_0-error:0.001744\tvalidation_0-logloss:0.259009\tvalidation_1-error:0.002667\tvalidation_1-logloss:0.257338\n",
            "[56]\tvalidation_0-error:0.001751\tvalidation_0-logloss:0.259666\tvalidation_1-error:0.0027\tvalidation_1-logloss:0.266791\n",
            "[57]\tvalidation_0-error:0.00175\tvalidation_0-logloss:0.270788\tvalidation_1-error:0.00262\tvalidation_1-logloss:0.253039\n",
            "[58]\tvalidation_0-error:0.001734\tvalidation_0-logloss:0.261543\tvalidation_1-error:0.002616\tvalidation_1-logloss:0.250219\n",
            "[59]\tvalidation_0-error:0.001751\tvalidation_0-logloss:0.241852\tvalidation_1-error:0.002611\tvalidation_1-logloss:0.257278\n",
            "[60]\tvalidation_0-error:0.001745\tvalidation_0-logloss:0.263131\tvalidation_1-error:0.002644\tvalidation_1-logloss:0.243731\n",
            "[61]\tvalidation_0-error:0.00175\tvalidation_0-logloss:0.241613\tvalidation_1-error:0.002649\tvalidation_1-logloss:0.249446\n",
            "[62]\tvalidation_0-error:0.001724\tvalidation_0-logloss:0.27923\tvalidation_1-error:0.00262\tvalidation_1-logloss:0.278866\n",
            "[63]\tvalidation_0-error:0.00173\tvalidation_0-logloss:0.252331\tvalidation_1-error:0.002635\tvalidation_1-logloss:0.251191\n",
            "[64]\tvalidation_0-error:0.001731\tvalidation_0-logloss:0.251692\tvalidation_1-error:0.002677\tvalidation_1-logloss:0.259843\n",
            "[65]\tvalidation_0-error:0.001749\tvalidation_0-logloss:0.238903\tvalidation_1-error:0.00263\tvalidation_1-logloss:0.269236\n",
            "[66]\tvalidation_0-error:0.001734\tvalidation_0-logloss:0.224989\tvalidation_1-error:0.002653\tvalidation_1-logloss:0.251578\n",
            "[67]\tvalidation_0-error:0.00173\tvalidation_0-logloss:0.224142\tvalidation_1-error:0.002611\tvalidation_1-logloss:0.250347\n",
            "[68]\tvalidation_0-error:0.001728\tvalidation_0-logloss:0.245211\tvalidation_1-error:0.00262\tvalidation_1-logloss:0.249715\n",
            "[69]\tvalidation_0-error:0.001738\tvalidation_0-logloss:0.273255\tvalidation_1-error:0.002602\tvalidation_1-logloss:0.236946\n",
            "[70]\tvalidation_0-error:0.001758\tvalidation_0-logloss:0.256211\tvalidation_1-error:0.002616\tvalidation_1-logloss:0.253175\n",
            "[71]\tvalidation_0-error:0.001729\tvalidation_0-logloss:0.234898\tvalidation_1-error:0.002639\tvalidation_1-logloss:0.239624\n",
            "[72]\tvalidation_0-error:0.001717\tvalidation_0-logloss:0.241186\tvalidation_1-error:0.002597\tvalidation_1-logloss:0.270585\n",
            "[73]\tvalidation_0-error:0.001729\tvalidation_0-logloss:0.252382\tvalidation_1-error:0.002578\tvalidation_1-logloss:0.236734\n",
            "[74]\tvalidation_0-error:0.001721\tvalidation_0-logloss:0.241704\tvalidation_1-error:0.002602\tvalidation_1-logloss:0.238736\n",
            "[75]\tvalidation_0-error:0.001736\tvalidation_0-logloss:0.231326\tvalidation_1-error:0.002583\tvalidation_1-logloss:0.24572\n",
            "[76]\tvalidation_0-error:0.001729\tvalidation_0-logloss:0.254192\tvalidation_1-error:0.002602\tvalidation_1-logloss:0.223765\n",
            "[77]\tvalidation_0-error:0.001719\tvalidation_0-logloss:0.227553\tvalidation_1-error:0.002625\tvalidation_1-logloss:0.227921\n",
            "[78]\tvalidation_0-error:0.001704\tvalidation_0-logloss:0.242913\tvalidation_1-error:0.002588\tvalidation_1-logloss:0.231171\n",
            "[79]\tvalidation_0-error:0.001715\tvalidation_0-logloss:0.243067\tvalidation_1-error:0.002578\tvalidation_1-logloss:0.228349\n",
            "[80]\tvalidation_0-error:0.001737\tvalidation_0-logloss:0.258926\tvalidation_1-error:0.002691\tvalidation_1-logloss:0.26616\n",
            "[81]\tvalidation_0-error:0.001743\tvalidation_0-logloss:0.264779\tvalidation_1-error:0.002555\tvalidation_1-logloss:0.234868\n",
            "[82]\tvalidation_0-error:0.001689\tvalidation_0-logloss:0.231259\tvalidation_1-error:0.002616\tvalidation_1-logloss:0.258592\n",
            "[83]\tvalidation_0-error:0.001707\tvalidation_0-logloss:0.2203\tvalidation_1-error:0.002625\tvalidation_1-logloss:0.233059\n",
            "[84]\tvalidation_0-error:0.001717\tvalidation_0-logloss:0.246241\tvalidation_1-error:0.002606\tvalidation_1-logloss:0.221549\n",
            "[85]\tvalidation_0-error:0.00171\tvalidation_0-logloss:0.214432\tvalidation_1-error:0.002564\tvalidation_1-logloss:0.237315\n",
            "[86]\tvalidation_0-error:0.001685\tvalidation_0-logloss:0.221227\tvalidation_1-error:0.002574\tvalidation_1-logloss:0.230923\n",
            "[87]\tvalidation_0-error:0.001716\tvalidation_0-logloss:0.216589\tvalidation_1-error:0.002639\tvalidation_1-logloss:0.214828\n",
            "[88]\tvalidation_0-error:0.001708\tvalidation_0-logloss:0.224717\tvalidation_1-error:0.002588\tvalidation_1-logloss:0.224182\n",
            "[89]\tvalidation_0-error:0.001703\tvalidation_0-logloss:0.220445\tvalidation_1-error:0.00262\tvalidation_1-logloss:0.230837\n",
            "[90]\tvalidation_0-error:0.001703\tvalidation_0-logloss:0.240861\tvalidation_1-error:0.002606\tvalidation_1-logloss:0.215246\n",
            "[91]\tvalidation_0-error:0.001706\tvalidation_0-logloss:0.231425\tvalidation_1-error:0.002574\tvalidation_1-logloss:0.22013\n",
            "[92]\tvalidation_0-error:0.001696\tvalidation_0-logloss:0.234657\tvalidation_1-error:0.002602\tvalidation_1-logloss:0.221779\n",
            "[93]\tvalidation_0-error:0.001694\tvalidation_0-logloss:0.215856\tvalidation_1-error:0.00262\tvalidation_1-logloss:0.234073\n",
            "[94]\tvalidation_0-error:0.001699\tvalidation_0-logloss:0.210631\tvalidation_1-error:0.002578\tvalidation_1-logloss:0.231966\n",
            "[95]\tvalidation_0-error:0.00171\tvalidation_0-logloss:0.210003\tvalidation_1-error:0.002574\tvalidation_1-logloss:0.233301\n",
            "[96]\tvalidation_0-error:0.001694\tvalidation_0-logloss:0.220203\tvalidation_1-error:0.002574\tvalidation_1-logloss:0.22352\n",
            "[97]\tvalidation_0-error:0.001721\tvalidation_0-logloss:0.225738\tvalidation_1-error:0.002574\tvalidation_1-logloss:0.217365\n",
            "Stopping. Best iteration:\n",
            "[87]\tvalidation_0-error:0.001716\tvalidation_0-logloss:0.216589\tvalidation_1-error:0.002639\tvalidation_1-logloss:0.214828\n",
            "\n",
            "Accuracy: 99.74%\n"
          ],
          "name": "stdout"
        },
        {
          "output_type": "display_data",
          "data": {
            "image/png": "[encoded data removed]",
            "text/plain": [
              "<Figure size 432x288 with 1 Axes>"
            ]
          },
          "metadata": {
            "tags": [],
            "needs_background": "light"
          }
        },
        {
          "output_type": "display_data",
          "data": {
            "image/png": "[encoded data removed]",
            "text/plain": [
              "<Figure size 432x288 with 1 Axes>"
            ]
          },
          "metadata": {
            "tags": [],
            "needs_background": "light"
          }
        }
      ]
    },
    {
      "cell_type": "code",
      "metadata": {
        "id": "olv_sgmCM8lA",
        "colab_type": "code",
        "outputId": "a6f64ba3-6b11-4548-86ac-bcc0931264ab",
        "colab": {
          "base_uri": "https://localhost:8080/",
          "height": 260
        }
      },
      "source": [
        "model.fit(x_train_ft,ytrain)"
      ],
      "execution_count": 0,
      "outputs": [
        {
          "output_type": "execute_result",
          "data": {
            "text/plain": [
              "XGBClassifier(base_score=0.5, booster='gbtree', colsample_bylevel=1,\n",
              "              colsample_bynode=1, colsample_bytree=0.7, early_stopping_rouds=10,\n",
              "              eval_metric='auc', gamma=0.1,\n",
              "              interaction_constraints=[[0, 13], [1, 14], [2, 15], [3, 16],\n",
              "                                       [4, 17], [5, 18], [6, 19], [7, 20],\n",
              "                                       [8, 21], [9, 22], [10, 23], [11, 24],\n",
              "                                       [12, 25],\n",
              "                                       [26, 27, 28, 29, 30, 31, 32, 33, 34, 35,\n",
              "                                        36]],\n",
              "              learning_rate=0.03, max_delta_step=0, max_depth=12,\n",
              "              min_child_weight=4, missing=None, n_estimators=1300, n_jobs=1,\n",
              "              nthread=4, objective='binary:logistic', random_state=0,\n",
              "              reg_alpha=0.1, reg_lambda=1, scale_pos_weight=27.4, seed=27,\n",
              "              silent=None, subsample=0.65, tree_method='gpu_hist', verbosity=1)"
            ]
          },
          "metadata": {
            "tags": []
          },
          "execution_count": 93
        }
      ]
    },
    {
      "cell_type": "code",
      "metadata": {
        "id": "7xtsL2dRHsio",
        "colab_type": "code",
        "outputId": "fbcc5d5e-5d3d-443e-941f-c7f7c1cc4f10",
        "colab": {
          "base_uri": "https://localhost:8080/",
          "height": 34
        }
      },
      "source": [
        "print('Importance of the scores in the classification : %f' %(np.sum(model.feature_importances_[26:])/np.sum(model.feature_importances_)))"
      ],
      "execution_count": 0,
      "outputs": [
        {
          "output_type": "stream",
          "text": [
            "Importance of the scores in the classification : 0.946043\n"
          ],
          "name": "stdout"
        }
      ]
    },
    {
      "cell_type": "code",
      "metadata": {
        "id": "eRIdOgEFdGQu",
        "colab_type": "code",
        "colab": {}
      },
      "source": [
        "ytest = model.predict(x_test_ft)"
      ],
      "execution_count": 0,
      "outputs": []
    },
    {
      "cell_type": "code",
      "metadata": {
        "id": "mKweTdj702I7",
        "colab_type": "code",
        "outputId": "38c8311c-13b2-4d3e-cf5f-8c68cd77aaf5",
        "colab": {
          "base_uri": "https://localhost:8080/",
          "height": 34
        }
      },
      "source": [
        "np.sum(1-ytest)/len(ytest)"
      ],
      "execution_count": 0,
      "outputs": [
        {
          "output_type": "execute_result",
          "data": {
            "text/plain": [
              "0.9646845851003045"
            ]
          },
          "metadata": {
            "tags": []
          },
          "execution_count": 96
        }
      ]
    },
    {
      "cell_type": "code",
      "metadata": {
        "id": "YsnPrmKYQfnc",
        "colab_type": "code",
        "colab": {}
      },
      "source": [
        "from google.colab import files\n",
        "np.savetxt('ytest_challenge_student.csv', ytest, fmt = '%1.0d', delimiter=',')\n",
        "files.download('ytest_challenge_student.csv') "
      ],
      "execution_count": 0,
      "outputs": []
    },
    {
      "cell_type": "markdown",
      "metadata": {
        "id": "3OBGeuGiJAGe",
        "colab_type": "text"
      },
      "source": [
        "## Further improvements"
      ]
    },
    {
      "cell_type": "markdown",
      "metadata": {
        "id": "06H4GAt9JDrV",
        "colab_type": "text"
      },
      "source": [
        "I did not use any preprocessing technique on the data so basically they are very 'raw'. They could use some, but quite frankly I wouldn't know what to do. I tried some PCA on the first features but it didn't show any improvement. LDA neither. Other than that I could try tuning the hyperparameters better on XGB by implementing a grid search instead of doing it by hand but it's really time consuming."
      ]
    }
  ]
}